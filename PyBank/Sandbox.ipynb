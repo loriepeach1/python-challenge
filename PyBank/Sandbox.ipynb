{
 "cells": [
  {
   "cell_type": "code",
   "execution_count": 2,
   "metadata": {},
   "outputs": [
    {
     "name": "stdin",
     "output_type": "stream",
     "text": [
      "What is your name?  Lorie\n",
      "What is your neighbors name?  Bonnye\n",
      "How many months have you been coding?  9\n",
      "How many months has your neighbor been coding?  10\n"
     ]
    },
    {
     "name": "stdout",
     "output_type": "stream",
     "text": [
      "I am Lorie and my neighbor is Bonnye\n",
      "Together we have been coding for 19 months!\n"
     ]
    }
   ],
   "source": [
    "# Take input of you and your neighbor\n",
    "your_first_name = input(\"What is your name? \")\n",
    "neighbor_first_name = input(\"What is your neighbors name? \")\n",
    "\n",
    "# Take how long each of you have been coding\n",
    "months_you_coded = int(input(\"How many months have you been coding? \"))\n",
    "months_neighbor_coded = int(input(\"How many months has your neighbor been coding? \"))\n",
    "\n",
    "# Add total month\n",
    "total_months_coded = months_you_coded + months_neighbor_coded\n",
    "\n",
    "# Print results\n",
    "print(\"I am \" + your_first_name + \" and my neighbor is \" + neighbor_first_name)\n",
    "print(\"Together we have been coding for \" + str(total_months_coded) + \" months!\")\n"
   ]
  },
  {
   "cell_type": "raw",
   "metadata": {},
   "source": [
    "# Create a variable and set it as an List\n",
    "myList = [\"Jacob\", 25, \"Ahmed\", 80]\n",
    "print(myList)"
   ]
  },
  {
   "cell_type": "code",
   "execution_count": 3,
   "metadata": {},
   "outputs": [],
   "source": [
    "myList = [\"Jacob\", 25, \"Ahmed\", 80]"
   ]
  },
  {
   "cell_type": "code",
   "execution_count": 6,
   "metadata": {},
   "outputs": [
    {
     "name": "stdout",
     "output_type": "stream",
     "text": [
      "['Jacob', 25, 'Ahmed', 80, 'Matt']\n"
     ]
    }
   ],
   "source": [
    "print(myList)"
   ]
  },
  {
   "cell_type": "code",
   "execution_count": 5,
   "metadata": {},
   "outputs": [],
   "source": [
    "myList.append(\"Matt\")"
   ]
  },
  {
   "cell_type": "code",
   "execution_count": 7,
   "metadata": {},
   "outputs": [
    {
     "name": "stdout",
     "output_type": "stream",
     "text": [
      "4\n"
     ]
    }
   ],
   "source": [
    "print(myList.index(\"Matt\"))"
   ]
  },
  {
   "cell_type": "code",
   "execution_count": 8,
   "metadata": {},
   "outputs": [],
   "source": [
    "# Changes a specified element within an List at the given index\n",
    "myList[3] = 85"
   ]
  },
  {
   "cell_type": "code",
   "execution_count": 9,
   "metadata": {},
   "outputs": [
    {
     "name": "stdout",
     "output_type": "stream",
     "text": [
      "['Jacob', 25, 'Ahmed', 85, 'Matt']\n"
     ]
    }
   ],
   "source": [
    "print(myList)"
   ]
  },
  {
   "cell_type": "code",
   "execution_count": 10,
   "metadata": {},
   "outputs": [
    {
     "name": "stdout",
     "output_type": "stream",
     "text": [
      "5\n"
     ]
    }
   ],
   "source": [
    "# Returns the length of the List\n",
    "print(len(myList))"
   ]
  },
  {
   "cell_type": "code",
   "execution_count": 11,
   "metadata": {},
   "outputs": [],
   "source": [
    "myList.remove(\"Matt\")"
   ]
  },
  {
   "cell_type": "code",
   "execution_count": 12,
   "metadata": {},
   "outputs": [
    {
     "name": "stdout",
     "output_type": "stream",
     "text": [
      "['Jacob', 25, 'Ahmed', 85]\n"
     ]
    }
   ],
   "source": [
    "print(myList)"
   ]
  },
  {
   "cell_type": "code",
   "execution_count": 13,
   "metadata": {},
   "outputs": [
    {
     "name": "stdout",
     "output_type": "stream",
     "text": [
      "4\n"
     ]
    }
   ],
   "source": [
    "print(len(myList))"
   ]
  },
  {
   "cell_type": "code",
   "execution_count": 14,
   "metadata": {},
   "outputs": [
    {
     "data": {
      "text/plain": [
       "'Jacob'"
      ]
     },
     "execution_count": 14,
     "metadata": {},
     "output_type": "execute_result"
    }
   ],
   "source": [
    "myList.pop(0)"
   ]
  },
  {
   "cell_type": "code",
   "execution_count": 15,
   "metadata": {},
   "outputs": [
    {
     "name": "stdout",
     "output_type": "stream",
     "text": [
      "[25, 'Ahmed', 85]\n"
     ]
    }
   ],
   "source": [
    "print(myList)"
   ]
  },
  {
   "cell_type": "code",
   "execution_count": 16,
   "metadata": {},
   "outputs": [],
   "source": [
    "myTuple = ('Python', 100, 'VBA', False)"
   ]
  },
  {
   "cell_type": "code",
   "execution_count": 17,
   "metadata": {},
   "outputs": [
    {
     "name": "stdout",
     "output_type": "stream",
     "text": [
      "('Python', 100, 'VBA', False)\n"
     ]
    }
   ],
   "source": [
    "print(myTuple)"
   ]
  },
  {
   "cell_type": "code",
   "execution_count": 18,
   "metadata": {},
   "outputs": [
    {
     "ename": "AttributeError",
     "evalue": "'tuple' object has no attribute 'remove'",
     "output_type": "error",
     "traceback": [
      "\u001b[1;31m---------------------------------------------------------------------------\u001b[0m",
      "\u001b[1;31mAttributeError\u001b[0m                            Traceback (most recent call last)",
      "\u001b[1;32m<ipython-input-18-249f4e89d76b>\u001b[0m in \u001b[0;36m<module>\u001b[1;34m\u001b[0m\n\u001b[1;32m----> 1\u001b[1;33m \u001b[0mmyTuple\u001b[0m\u001b[1;33m.\u001b[0m\u001b[0mremove\u001b[0m\u001b[1;33m(\u001b[0m\u001b[1;34m\"VBA\"\u001b[0m\u001b[1;33m)\u001b[0m\u001b[1;33m\u001b[0m\u001b[1;33m\u001b[0m\u001b[0m\n\u001b[0m",
      "\u001b[1;31mAttributeError\u001b[0m: 'tuple' object has no attribute 'remove'"
     ]
    }
   ],
   "source": [
    "myTuple.remove(\"VBA\")"
   ]
  },
  {
   "cell_type": "code",
   "execution_count": 19,
   "metadata": {},
   "outputs": [],
   "source": [
    "listB = ('Lorie', 'Vikas', 'Charlie')"
   ]
  },
  {
   "cell_type": "code",
   "execution_count": 20,
   "metadata": {},
   "outputs": [
    {
     "name": "stdout",
     "output_type": "stream",
     "text": [
      "('Lorie', 'Vikas', 'Charlie')\n"
     ]
    }
   ],
   "source": [
    "print(listB)"
   ]
  },
  {
   "cell_type": "code",
   "execution_count": 21,
   "metadata": {},
   "outputs": [
    {
     "ename": "AttributeError",
     "evalue": "'tuple' object has no attribute 'remove'",
     "output_type": "error",
     "traceback": [
      "\u001b[1;31m---------------------------------------------------------------------------\u001b[0m",
      "\u001b[1;31mAttributeError\u001b[0m                            Traceback (most recent call last)",
      "\u001b[1;32m<ipython-input-21-31058af75399>\u001b[0m in \u001b[0;36m<module>\u001b[1;34m\u001b[0m\n\u001b[1;32m----> 1\u001b[1;33m \u001b[0mlistB\u001b[0m\u001b[1;33m.\u001b[0m\u001b[0mremove\u001b[0m\u001b[1;33m(\u001b[0m\u001b[1;34m\"Vikas\"\u001b[0m\u001b[1;33m)\u001b[0m\u001b[1;33m\u001b[0m\u001b[1;33m\u001b[0m\u001b[0m\n\u001b[0m",
      "\u001b[1;31mAttributeError\u001b[0m: 'tuple' object has no attribute 'remove'"
     ]
    }
   ],
   "source": [
    "listB.remove(\"Vikas\")"
   ]
  },
  {
   "cell_type": "code",
   "execution_count": 23,
   "metadata": {},
   "outputs": [
    {
     "name": "stdout",
     "output_type": "stream",
     "text": [
      "0\n",
      "1\n",
      "2\n",
      "3\n",
      "4\n"
     ]
    }
   ],
   "source": [
    "# Loop through a range of numbers (0 through 4)\n",
    "for x in range(5):\n",
    "    print(x)\n"
   ]
  },
  {
   "cell_type": "code",
   "execution_count": 24,
   "metadata": {},
   "outputs": [
    {
     "name": "stdout",
     "output_type": "stream",
     "text": [
      "2\n",
      "3\n",
      "4\n",
      "5\n",
      "6\n"
     ]
    }
   ],
   "source": [
    "for x in range(2, 7):\n",
    "    print(x)\n"
   ]
  },
  {
   "cell_type": "code",
   "execution_count": 25,
   "metadata": {},
   "outputs": [
    {
     "name": "stdout",
     "output_type": "stream",
     "text": [
      "P\n",
      "e\n",
      "a\n",
      "c\n",
      "e\n"
     ]
    }
   ],
   "source": [
    "word = \"Peace\"\n",
    "for letters in word:\n",
    "    print(letters)\n"
   ]
  },
  {
   "cell_type": "code",
   "execution_count": 28,
   "metadata": {},
   "outputs": [
    {
     "name": "stdout",
     "output_type": "stream",
     "text": [
      "cow\n",
      "dog\n",
      "bee\n",
      "zebra\n"
     ]
    }
   ],
   "source": [
    "zoo = [\"cow\", \"dog\", \"bee\", \"zebra\"]\n",
    "for k in zoo:\n",
    "    print(k)\n"
   ]
  },
  {
   "cell_type": "code",
   "execution_count": 29,
   "metadata": {},
   "outputs": [
    {
     "name": "stdout",
     "output_type": "stream",
     "text": [
      "Hi!\n"
     ]
    },
    {
     "name": "stdin",
     "output_type": "stream",
     "text": [
      "To run again. Enter 'y' y\n"
     ]
    },
    {
     "name": "stdout",
     "output_type": "stream",
     "text": [
      "Hi!\n"
     ]
    },
    {
     "name": "stdin",
     "output_type": "stream",
     "text": [
      "To run again. Enter 'y' y\n"
     ]
    },
    {
     "name": "stdout",
     "output_type": "stream",
     "text": [
      "Hi!\n"
     ]
    },
    {
     "name": "stdin",
     "output_type": "stream",
     "text": [
      "To run again. Enter 'y' n\n"
     ]
    }
   ],
   "source": [
    "run = \"y\"\n",
    "\n",
    "while run == \"y\":\n",
    "    print(\"Hi!\")\n",
    "    run = input(\"To run again. Enter 'y'\")\n"
   ]
  },
  {
   "cell_type": "code",
   "execution_count": 31,
   "metadata": {},
   "outputs": [
    {
     "name": "stdin",
     "output_type": "stream",
     "text": [
      "How many numbers?  4\n"
     ]
    },
    {
     "name": "stdout",
     "output_type": "stream",
     "text": [
      "0\n",
      "1\n",
      "2\n",
      "3\n"
     ]
    },
    {
     "name": "stdin",
     "output_type": "stream",
     "text": [
      "Continue: (y)es or (n)o?  y\n",
      "How many numbers?  9\n"
     ]
    },
    {
     "name": "stdout",
     "output_type": "stream",
     "text": [
      "0\n",
      "1\n",
      "2\n",
      "3\n",
      "4\n",
      "5\n",
      "6\n",
      "7\n",
      "8\n"
     ]
    },
    {
     "name": "stdin",
     "output_type": "stream",
     "text": [
      "Continue: (y)es or (n)o?  n\n"
     ]
    }
   ],
   "source": [
    "# Initial variable to track game play\n",
    "user_play = \"y\"\n",
    "\n",
    "# While we are still playing...\n",
    "while user_play == \"y\":\n",
    "\n",
    "    # Ask the user how many numbers to loop through\n",
    "    user_number = input(\"How many numbers? \")\n",
    "\n",
    "    # Loop through the numbers. (Be sure to cast the string into an integer.)\n",
    "    for peach in range(int(user_number)):\n",
    "\n",
    "        # Print each number in the range\n",
    "        print(peach)\n",
    "\n",
    "    # Once complete...\n",
    "    user_play = input(\"Continue: (y)es or (n)o? \")\n"
   ]
  },
  {
   "cell_type": "markdown",
   "metadata": {},
   "source": [
    "age = int(input(\"What is your age?\"))"
   ]
  },
  {
   "cell_type": "code",
   "execution_count": 38,
   "metadata": {},
   "outputs": [
    {
     "name": "stdin",
     "output_type": "stream",
     "text": [
      "What is your age? 35\n"
     ]
    }
   ],
   "source": [
    "age = int(input(\"What is your age?\"))"
   ]
  },
  {
   "cell_type": "code",
   "execution_count": 39,
   "metadata": {},
   "outputs": [
    {
     "name": "stdout",
     "output_type": "stream",
     "text": [
      "you are  35 or younger.  such a young one!\n"
     ]
    }
   ],
   "source": [
    "if age <= 35 :\n",
    "    print(\"you are  \" + str(age) + \" or younger.  such a young one!\")\n",
    "\n",
    "if age > 35:\n",
    "    print(\"you are \" + str(age) + \", a seasoned person!\")"
   ]
  },
  {
   "cell_type": "code",
   "execution_count": 37,
   "metadata": {},
   "outputs": [
    {
     "data": {
      "text/plain": [
       "40"
      ]
     },
     "execution_count": 37,
     "metadata": {},
     "output_type": "execute_result"
    }
   ],
   "source": [
    "age"
   ]
  },
  {
   "cell_type": "code",
   "execution_count": 40,
   "metadata": {},
   "outputs": [
    {
     "name": "stdout",
     "output_type": "stream",
     "text": [
      "0\n",
      "1\n",
      "2\n",
      "3\n",
      "4\n",
      "5\n",
      "6\n",
      "7\n",
      "8\n",
      "9\n"
     ]
    }
   ],
   "source": [
    "for x in range(10):\n",
    "    print(x)\n"
   ]
  },
  {
   "cell_type": "code",
   "execution_count": 41,
   "metadata": {},
   "outputs": [
    {
     "name": "stdout",
     "output_type": "stream",
     "text": [
      "20\n",
      "21\n",
      "22\n",
      "23\n",
      "24\n",
      "25\n",
      "26\n",
      "27\n",
      "28\n",
      "29\n"
     ]
    }
   ],
   "source": [
    "# If two numbers are provided then a For loop will loop from the first number up until it reaches the second number\n",
    "for x in range(20, 30):\n",
    "    print(x)\n"
   ]
  },
  {
   "cell_type": "code",
   "execution_count": 42,
   "metadata": {},
   "outputs": [
    {
     "name": "stdout",
     "output_type": "stream",
     "text": [
      "Peanut\n",
      "Butter\n",
      "Jelly\n",
      "Time\n",
      "Is\n",
      "Now\n"
     ]
    }
   ],
   "source": [
    "# If a list is provided, then the For loop will loop through each element within the list\n",
    "words = [\"Peanut\", \"Butter\", \"Jelly\", \"Time\", \"Is\", \"Now\"]\n",
    "for spider in words:\n",
    "    print(spider)\n"
   ]
  },
  {
   "cell_type": "code",
   "execution_count": 44,
   "metadata": {},
   "outputs": [
    {
     "name": "stdout",
     "output_type": "stream",
     "text": [
      "Whee! Merry-Go-Rounds are great!\n"
     ]
    },
    {
     "name": "stdin",
     "output_type": "stream",
     "text": [
      "Would you like to go on the Merry-Go-Round again?  Yes\n"
     ]
    },
    {
     "name": "stdout",
     "output_type": "stream",
     "text": [
      "Whee! Merry-Go-Rounds are great!\n"
     ]
    },
    {
     "name": "stdin",
     "output_type": "stream",
     "text": [
      "Would you like to go on the Merry-Go-Round again?  Ye\n"
     ]
    }
   ],
   "source": [
    "# A While Loop will continue to loop through the code contained within it until some condition is met\n",
    "x = \"Yes\"\n",
    "while x == \"Yes\":\n",
    "    print(\"Whee! Merry-Go-Rounds are great!\")\n",
    "    x = input(\"Would you like to go on the Merry-Go-Round again? \")\n"
   ]
  },
  {
   "cell_type": "code",
   "execution_count": 45,
   "metadata": {},
   "outputs": [
    {
     "name": "stdout",
     "output_type": "stream",
     "text": [
      "0\n",
      "1\n",
      "2\n",
      "3\n",
      "4\n",
      "5\n",
      "6\n",
      "7\n",
      "8\n",
      "9\n"
     ]
    }
   ],
   "source": [
    "for x in range(10):\n",
    "    print(x)\n"
   ]
  },
  {
   "cell_type": "code",
   "execution_count": 49,
   "metadata": {},
   "outputs": [
    {
     "name": "stdout",
     "output_type": "stream",
     "text": [
      "[0]Snickers\n",
      "[1]Kit Kat\n",
      "[2]Sour Patch Kids\n",
      "[3]Juicy Fruit\n",
      "[4]Swedish Fish\n",
      "[5]Skittles\n",
      "[6]Hershey Bar\n",
      "[5]Skittles\n",
      "[8]Starbursts\n",
      "[9]M&Ms\n"
     ]
    },
    {
     "name": "stdin",
     "output_type": "stream",
     "text": [
      "What candy would you like?  Enter a value 5\n"
     ]
    },
    {
     "name": "stdout",
     "output_type": "stream",
     "text": [
      "you have selected this candy: Skittles\n",
      "['Skittles']\n",
      "[0]Snickers\n",
      "[1]Kit Kat\n",
      "[2]Sour Patch Kids\n",
      "[3]Juicy Fruit\n",
      "[4]Swedish Fish\n",
      "[5]Skittles\n",
      "[6]Hershey Bar\n",
      "[5]Skittles\n",
      "[8]Starbursts\n",
      "[9]M&Ms\n"
     ]
    },
    {
     "name": "stdin",
     "output_type": "stream",
     "text": [
      "What candy would you like?  Enter a value 6\n"
     ]
    },
    {
     "name": "stdout",
     "output_type": "stream",
     "text": [
      "you have selected this candy: Hershey Bar\n",
      "['Skittles', 'Hershey Bar']\n",
      "[0]Snickers\n",
      "[1]Kit Kat\n",
      "[2]Sour Patch Kids\n",
      "[3]Juicy Fruit\n",
      "[4]Swedish Fish\n",
      "[5]Skittles\n",
      "[6]Hershey Bar\n",
      "[5]Skittles\n",
      "[8]Starbursts\n",
      "[9]M&Ms\n"
     ]
    },
    {
     "name": "stdin",
     "output_type": "stream",
     "text": [
      "What candy would you like?  Enter a value 7\n"
     ]
    },
    {
     "name": "stdout",
     "output_type": "stream",
     "text": [
      "you have selected this candy: Skittles\n",
      "['Skittles', 'Hershey Bar', 'Skittles']\n",
      "[0]Snickers\n",
      "[1]Kit Kat\n",
      "[2]Sour Patch Kids\n",
      "[3]Juicy Fruit\n",
      "[4]Swedish Fish\n",
      "[5]Skittles\n",
      "[6]Hershey Bar\n",
      "[5]Skittles\n",
      "[8]Starbursts\n",
      "[9]M&Ms\n"
     ]
    },
    {
     "name": "stdin",
     "output_type": "stream",
     "text": [
      "What candy would you like?  Enter a value 8\n"
     ]
    },
    {
     "name": "stdout",
     "output_type": "stream",
     "text": [
      "you have selected this candy: Starbursts\n",
      "['Skittles', 'Hershey Bar', 'Skittles', 'Starbursts']\n",
      "[0]Snickers\n",
      "[1]Kit Kat\n",
      "[2]Sour Patch Kids\n",
      "[3]Juicy Fruit\n",
      "[4]Swedish Fish\n",
      "[5]Skittles\n",
      "[6]Hershey Bar\n",
      "[5]Skittles\n",
      "[8]Starbursts\n",
      "[9]M&Ms\n"
     ]
    },
    {
     "name": "stdin",
     "output_type": "stream",
     "text": [
      "What candy would you like?  Enter a value 9\n"
     ]
    },
    {
     "name": "stdout",
     "output_type": "stream",
     "text": [
      "you have selected this candy: M&Ms\n",
      "['Skittles', 'Hershey Bar', 'Skittles', 'Starbursts', 'M&Ms']\n"
     ]
    }
   ],
   "source": [
    "# The list of candies to print to the screen\n",
    "candyList = [\"Snickers\", \"Kit Kat\", \"Sour Patch Kids\", \"Juicy Fruit\", \"Swedish Fish\",\n",
    "             \"Skittles\", \"Hershey Bar\", \"Skittles\", \"Starbursts\", \"M&Ms\"]\n",
    "\n",
    "# The amount of candy the user will be allowed to choose\n",
    "allowance = 5\n",
    "\n",
    "# The list used to store all of the candies selected inside of\n",
    "candyCart = []\n",
    "\n",
    "#add a value to list use append\n",
    "for i in range(0, allowance, 1):\n",
    "    for candy in candyList:\n",
    "        print(\"[\" + str(candyList.index(candy)) + \"]\" + candy)\n",
    "    \n",
    "    userChoice = int(input(\"What candy would you like?  Enter a value\"))\n",
    "        #if userChoice !=candyList.index\n",
    "        #print(\"Please select a candy from the store\")\n",
    "        #add a way for the user to select only 2 or 3 pieces of candy\n",
    "\n",
    "    \n",
    "    print(\"you have selected this candy: \" + candyList[userChoice])\n",
    "    \n",
    "    candyCart.append(candyList[userChoice])\n",
    "    print(candyCart)"
   ]
  },
  {
   "cell_type": "code",
   "execution_count": 50,
   "metadata": {},
   "outputs": [
    {
     "name": "stdout",
     "output_type": "stream",
     "text": [
      "Welcome to the House of Pies! Here are our pies:\n",
      "---------------------------------------------------------------------\n",
      "(1) Pecan, (2) Apple Crisp, (3) Bean, (4) Banoffee,  (5) Black Bun, (6) Blueberry, (7) Buko, (8) Burek,  (9) Tamale, (10) Steak \n"
     ]
    },
    {
     "name": "stdin",
     "output_type": "stream",
     "text": [
      "Which would you like?  2\n"
     ]
    },
    {
     "name": "stdout",
     "output_type": "stream",
     "text": [
      "------------------------------------------------------------------------\n",
      "Great! We'll have that Apple Crisp right out for you.\n"
     ]
    },
    {
     "name": "stdin",
     "output_type": "stream",
     "text": [
      "Would you like to make another purchase: (y)es or (n)o?  y\n"
     ]
    },
    {
     "name": "stdout",
     "output_type": "stream",
     "text": [
      "---------------------------------------------------------------------\n",
      "(1) Pecan, (2) Apple Crisp, (3) Bean, (4) Banoffee,  (5) Black Bun, (6) Blueberry, (7) Buko, (8) Burek,  (9) Tamale, (10) Steak \n"
     ]
    },
    {
     "name": "stdin",
     "output_type": "stream",
     "text": [
      "Which would you like?  5\n"
     ]
    },
    {
     "name": "stdout",
     "output_type": "stream",
     "text": [
      "------------------------------------------------------------------------\n",
      "Great! We'll have that Black Bun right out for you.\n"
     ]
    },
    {
     "name": "stdin",
     "output_type": "stream",
     "text": [
      "Would you like to make another purchase: (y)es or (n)o?  n\n"
     ]
    },
    {
     "name": "stdout",
     "output_type": "stream",
     "text": [
      "------------------------------------------------------------------------\n",
      "You purchased a total of 2.\n"
     ]
    }
   ],
   "source": [
    "# Initial variable to track shopping status\n",
    "shopping = 'y'\n",
    "\n",
    "# List to track pie purchases\n",
    "pie_purchases = []\n",
    "\n",
    "# Pie List\n",
    "pie_list = [\"Pecan\", \"Apple Crisp\", \"Bean\", \"Banoffee\", \"Black Bun\",\n",
    "            \"Blueberry\", \"Buko\", \"Burek\", \"Tamale\", \"Steak\"]\n",
    "\n",
    "# Display initial message\n",
    "print(\"Welcome to the House of Pies! Here are our pies:\")\n",
    "\n",
    "# While we are still shopping...\n",
    "while shopping == \"y\":\n",
    "\n",
    "    # Show pie selection prompt\n",
    "    print(\"---------------------------------------------------------------------\")\n",
    "    print(\"(1) Pecan, (2) Apple Crisp, (3) Bean, (4) Banoffee, \" +\n",
    "          \" (5) Black Bun, (6) Blueberry, (7) Buko, (8) Burek, \" +\n",
    "          \" (9) Tamale, (10) Steak \")\n",
    "\n",
    "    pie_choice = input(\"Which would you like? \")\n",
    "\n",
    "    # Add pie to the pie list\n",
    "    pie_purchases.append(pie_choice)\n",
    "\n",
    "    print(\"------------------------------------------------------------------------\")\n",
    "\n",
    "    # Inform the customer of the pie purchase\n",
    "    print(\"Great! We'll have that \" + pie_list[int(pie_choice) - 1] + \" right out for you.\")\n",
    "\n",
    "    # Provide exit option\n",
    "    shopping = input(\"Would you like to make another purchase: (y)es or (n)o? \")\n",
    "\n",
    "# Once the pie list is complete\n",
    "print(\"------------------------------------------------------------------------\")\n",
    "print(\"You purchased a total of \" + str(len(pie_purchases)) + \".\")\n"
   ]
  },
  {
   "cell_type": "code",
   "execution_count": 51,
   "metadata": {},
   "outputs": [
    {
     "name": "stdout",
     "output_type": "stream",
     "text": [
      "abcdefghijklmnopqrstuvwxyzABCDEFGHIJKLMNOPQRSTUVWXYZ\n",
      "1\n",
      "9\n",
      "2\n",
      "9\n",
      "3\n",
      "2\n",
      "4\n",
      "4\n",
      "1\n",
      "8\n"
     ]
    }
   ],
   "source": [
    "# Import the random and string Module\n",
    "import random\n",
    "import string\n",
    "\n",
    "# Utilize the string module's custom method: \".ascii_letters\"\n",
    "print(string.ascii_letters)\n",
    "\n",
    "# Utilize the random module's custom method randint\n",
    "for x in range(10):\n",
    "    print(random.randint(1, 10))\n"
   ]
  },
  {
   "cell_type": "code",
   "execution_count": 52,
   "metadata": {},
   "outputs": [],
   "source": [
    "def average(numbers):\n",
    "    length = len(numbers)\n",
    "    total = 0.0\n",
    "    for number in numbers:\n",
    "        total += number\n",
    "    return total / length\n"
   ]
  },
  {
   "cell_type": "code",
   "execution_count": 53,
   "metadata": {},
   "outputs": [
    {
     "name": "stdout",
     "output_type": "stream",
     "text": [
      "5.0\n"
     ]
    }
   ],
   "source": [
    "print(average([1, 5, 9]))\n",
    "#print(average(range(11)))\n"
   ]
  },
  {
   "cell_type": "code",
   "execution_count": 54,
   "metadata": {},
   "outputs": [
    {
     "name": "stdout",
     "output_type": "stream",
     "text": [
      "5.0\n"
     ]
    }
   ],
   "source": [
    "print(average(range(11)))"
   ]
  },
  {
   "cell_type": "code",
   "execution_count": 55,
   "metadata": {},
   "outputs": [],
   "source": [
    "def show():\n",
    "    print(f\"Hi!\")\n",
    "\n"
   ]
  },
  {
   "cell_type": "code",
   "execution_count": 56,
   "metadata": {},
   "outputs": [
    {
     "name": "stdout",
     "output_type": "stream",
     "text": [
      "Hi!\n"
     ]
    }
   ],
   "source": [
    "show()"
   ]
  },
  {
   "cell_type": "code",
   "execution_count": 61,
   "metadata": {},
   "outputs": [],
   "source": [
    "def show(message):\n",
    "    print(message)\n"
   ]
  },
  {
   "cell_type": "code",
   "execution_count": 58,
   "metadata": {},
   "outputs": [
    {
     "ename": "TypeError",
     "evalue": "show() missing 1 required positional argument: 'message'",
     "output_type": "error",
     "traceback": [
      "\u001b[1;31m---------------------------------------------------------------------------\u001b[0m",
      "\u001b[1;31mTypeError\u001b[0m                                 Traceback (most recent call last)",
      "\u001b[1;32m<ipython-input-58-9eb7fa60ac78>\u001b[0m in \u001b[0;36m<module>\u001b[1;34m\u001b[0m\n\u001b[1;32m----> 1\u001b[1;33m \u001b[0mshow\u001b[0m\u001b[1;33m(\u001b[0m\u001b[1;33m)\u001b[0m\u001b[1;33m\u001b[0m\u001b[1;33m\u001b[0m\u001b[0m\n\u001b[0m",
      "\u001b[1;31mTypeError\u001b[0m: show() missing 1 required positional argument: 'message'"
     ]
    }
   ],
   "source": [
    "show()"
   ]
  },
  {
   "cell_type": "code",
   "execution_count": 59,
   "metadata": {},
   "outputs": [
    {
     "name": "stdin",
     "output_type": "stream",
     "text": [
      "What do you want to say? I love peaches\n"
     ]
    }
   ],
   "source": [
    "message = input(\"What do you want to say?\")"
   ]
  },
  {
   "cell_type": "code",
   "execution_count": 63,
   "metadata": {},
   "outputs": [
    {
     "name": "stdout",
     "output_type": "stream",
     "text": [
      "I love peaches\n"
     ]
    }
   ],
   "source": [
    "show(message)"
   ]
  },
  {
   "cell_type": "code",
   "execution_count": null,
   "metadata": {},
   "outputs": [],
   "source": []
  }
 ],
 "metadata": {
  "kernelspec": {
   "display_name": "Python 3",
   "language": "python",
   "name": "python3"
  },
  "language_info": {
   "codemirror_mode": {
    "name": "ipython",
    "version": 3
   },
   "file_extension": ".py",
   "mimetype": "text/x-python",
   "name": "python",
   "nbconvert_exporter": "python",
   "pygments_lexer": "ipython3",
   "version": "3.7.1"
  }
 },
 "nbformat": 4,
 "nbformat_minor": 2
}
