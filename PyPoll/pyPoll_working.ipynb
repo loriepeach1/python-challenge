{
 "cells": [
  {
   "cell_type": "code",
   "execution_count": 136,
   "metadata": {},
   "outputs": [],
   "source": [
    "# Modules\n",
    "import os\n",
    "import csv\n",
    "import sys  #needed for writing the txt file\n",
    "\n",
    "# Set path for file\n",
    "csvpath = os.path.join(\"Resources\", \"election_data.csv\")"
   ]
  },
  {
   "cell_type": "code",
   "execution_count": 137,
   "metadata": {},
   "outputs": [
    {
     "name": "stdout",
     "output_type": "stream",
     "text": [
      "Election Results\n",
      "------------------------------------\n",
      "Total Votes: 3521001\n",
      "------------------------------------\n",
      "Khan:   63.00001%    (2218231)\n",
      "Correy:   19.99999%    (704200)\n",
      "Li:   14.0%    (492940)\n",
      "O'Tooley:   3.0%    (105630)\n",
      "------------------------------------\n",
      "Winner:  Khan\n",
      "------------------------------------\n"
     ]
    }
   ],
   "source": [
    "# Lists to store data\n",
    "wCandidate = []   #store the worksheet Candidate column as a list\n",
    "candidateList = []  #List of candidate names \n",
    "candidateTotal = []  #List of candidate totals  \n",
    "\n",
    "with open(csvpath, newline=\"\", encoding='utf-8') as csvfile:\n",
    "    \n",
    "    # CSV reader specifies delimiter and variable that holds contents\n",
    "    csvreader = csv.reader(csvfile, delimiter=\",\")\n",
    "    \n",
    "    next(csvreader, None)  #skip the header row      \n",
    "      \n",
    "    #to determine the number of rows, create a list and count the list\n",
    "    for row in csvreader:\n",
    "        \n",
    "        #print(row)  #use this to confirm I am reading the file\n",
    "        \n",
    "        # Add each row to the list for wCandidate\n",
    "        wCandidate.append(row[2])     \n",
    "    \n",
    "    #Leave the For loop, and print results from the two lists to the screen and to the file.\n",
    "    \n",
    "    print(\"Election Results\")\n",
    "    print(\"------------------------------------\")\n",
    "    print(\"Total Votes: \" + str(len(wCandidate)))\n",
    "    print(\"------------------------------------\")\n",
    "    \n",
    "    #write to the output file\n",
    "    file = open('output.txt', 'w')   # this seems inefficient to leave this open throughout the processing.   Needed because my print results for each candidate are in a for loop.\n",
    "    \n",
    "    file.write(\"Election Results\" + '\\n')\n",
    "    file.write(\"------------------------------------\" + '\\n')\n",
    "    file.write(\"Total Votes: \" + str(len(wCandidate)) + '\\n')\n",
    "    file.write(\"------------------------------------\" + '\\n')\n",
    "   \n",
    "\n",
    "    #Calculate FOR EACH CANDIDATE, the total votes received and the percentage votes received\n",
    "    for each in CandidateList:\n",
    "        cCount = wCandidate.count(each)  # count the number of times each candidate is listed\n",
    "        cPercent = round(((cCount / len(wCandidate))*100),5)  #calcualte percentage of total votes for each candidate ??rounds to one digit due to total.   Ask a TA\n",
    "    \n",
    "        print(each + \":   \"  + str(cPercent) +  \"%    (\" + str(cCount) + \")\")\n",
    "        file.write(each + \":   \"  + str(cPercent) +  \"%    (\" + str(cCount) + \")\" + '\\n')\n",
    "    \n",
    "        candidateList.append(each)  #Create a new list of only candidate names.  \n",
    "        candidateTotal.append(cCount) #Create a new list of only candidate totals.\n",
    "    \n",
    "     #Leave the for loop\n",
    "    \n",
    "    print(\"------------------------------------\")\n",
    "    file.write(\"------------------------------------\" + '\\n')\n",
    "    \n",
    "    #Use max to find the winner\n",
    "    \n",
    "    winner = candidateTotal.index(max(candidateTotal))  #returns the index number of the highest number of votes\n",
    "    print(\"Winner:  \" +  str(candidateList[(winner)]) )  #based on the index number, print the winner's name\n",
    "    print(\"------------------------------------\")\n",
    "    \n",
    "    file.write(\"Winner:  \" +  str(candidateList[(winner)]) + '\\n' )  \n",
    "    file.write(\"------------------------------------\" + '\\n')\n",
    "    \n",
    "file.close()"
   ]
  },
  {
   "cell_type": "code",
   "execution_count": 29,
   "metadata": {},
   "outputs": [
    {
     "name": "stdout",
     "output_type": "stream",
     "text": [
      "['Khan', 'Correy', 'Li', \"O'Tooley\"]\n"
     ]
    }
   ],
   "source": [
    "print (CandidateList)"
   ]
  },
  {
   "cell_type": "code",
   "execution_count": 21,
   "metadata": {},
   "outputs": [
    {
     "data": {
      "text/plain": [
       "['Khan',\n",
       " 'Correy',\n",
       " 'Khan',\n",
       " 'Khan',\n",
       " 'Khan',\n",
       " 'Li',\n",
       " 'Correy',\n",
       " 'Khan',\n",
       " 'Khan',\n",
       " 'Correy']"
      ]
     },
     "execution_count": 21,
     "metadata": {},
     "output_type": "execute_result"
    }
   ],
   "source": [
    "wCandidate [0:10]"
   ]
  },
  {
   "cell_type": "code",
   "execution_count": 33,
   "metadata": {},
   "outputs": [
    {
     "data": {
      "text/plain": [
       "Counter({'Khan': 2218231, 'Correy': 704200, 'Li': 492940, \"O'Tooley\": 105630})"
      ]
     },
     "execution_count": 33,
     "metadata": {},
     "output_type": "execute_result"
    }
   ],
   "source": [
    "from collections import Counter\n",
    "Counter(wCandidate)"
   ]
  },
  {
   "cell_type": "code",
   "execution_count": 116,
   "metadata": {},
   "outputs": [
    {
     "name": "stdout",
     "output_type": "stream",
     "text": [
      "Khan:   63.00001%    (2218231)\n",
      "Correy:   19.99999%    (704200)\n",
      "Li:   14.0%    (492940)\n",
      "O'Tooley:   3.0%    (105630)\n"
     ]
    }
   ],
   "source": [
    "#wCandidate.count(\"Khan\")\n",
    "for each in CandidateList:\n",
    "    cCount = wCandidate.count(each)  # count the number of times each candidate is listed\n",
    "    cPercent = round(((cCount / len(wCandidate))*100),5)  #calcualte percentage of total votes for each candidate ??round is wrong.  Need to show 3 digits after decimal.\n",
    "    \n",
    "    print(each + \":   \"  + str(cPercent) +  \"%    (\" + str(cCount) + \")\")\n",
    "    \n",
    "    candidateList.append(each)  #Create a new list of only candidate names.   to be zipped in next step\n",
    "    candidateTotal.append(cCount) #Create a new list of only candidate totals.   to be zipped in next step\n"
   ]
  },
  {
   "cell_type": "code",
   "execution_count": 55,
   "metadata": {},
   "outputs": [
    {
     "name": "stdout",
     "output_type": "stream",
     "text": [
      "Current candidate: Khan\n",
      "Current candidate: Correy\n",
      "Current candidate: Li\n",
      "Current candidate: O'Tooley\n",
      "bye\n"
     ]
    }
   ],
   "source": [
    "for index in range(len(CandidateList)):\n",
    "    print(\"Current candidate: \" + CandidateList[index])\n",
    "\n",
    "print(\"bye\")"
   ]
  },
  {
   "cell_type": "code",
   "execution_count": 114,
   "metadata": {},
   "outputs": [],
   "source": [
    "candidateTotal = []\n"
   ]
  },
  {
   "cell_type": "code",
   "execution_count": 117,
   "metadata": {},
   "outputs": [
    {
     "name": "stdout",
     "output_type": "stream",
     "text": [
      "['Khan', 'Correy', 'Li', \"O'Tooley\"]\n"
     ]
    }
   ],
   "source": [
    "print(candidateList)"
   ]
  },
  {
   "cell_type": "code",
   "execution_count": 118,
   "metadata": {},
   "outputs": [
    {
     "name": "stdout",
     "output_type": "stream",
     "text": [
      "[2218231, 704200, 492940, 105630]\n"
     ]
    }
   ],
   "source": [
    "print(candidateTotal)"
   ]
  },
  {
   "cell_type": "code",
   "execution_count": 112,
   "metadata": {},
   "outputs": [],
   "source": [
    "candidateList = []"
   ]
  },
  {
   "cell_type": "code",
   "execution_count": 121,
   "metadata": {},
   "outputs": [
    {
     "data": {
      "text/plain": [
       "<zip at 0x1d063853548>"
      ]
     },
     "execution_count": 121,
     "metadata": {},
     "output_type": "execute_result"
    }
   ],
   "source": [
    "summaryResults"
   ]
  },
  {
   "cell_type": "code",
   "execution_count": 122,
   "metadata": {},
   "outputs": [
    {
     "name": "stdout",
     "output_type": "stream",
     "text": [
      "<zip object at 0x000001D063853548>\n"
     ]
    }
   ],
   "source": [
    "print(summaryResults)"
   ]
  },
  {
   "cell_type": "code",
   "execution_count": 123,
   "metadata": {},
   "outputs": [
    {
     "data": {
      "text/plain": [
       "0"
      ]
     },
     "execution_count": 123,
     "metadata": {},
     "output_type": "execute_result"
    }
   ],
   "source": [
    "candidateTotal.index(max(candidateTotal))"
   ]
  },
  {
   "cell_type": "code",
   "execution_count": 124,
   "metadata": {},
   "outputs": [],
   "source": [
    "winner = candidateTotal.index(max(candidateTotal))"
   ]
  },
  {
   "cell_type": "code",
   "execution_count": 126,
   "metadata": {},
   "outputs": [
    {
     "name": "stdout",
     "output_type": "stream",
     "text": [
      "Winner:  Khan\n"
     ]
    }
   ],
   "source": [
    "print(\"Winner:  \" +  str(candidateList[(winner)]) )"
   ]
  },
  {
   "cell_type": "code",
   "execution_count": null,
   "metadata": {},
   "outputs": [],
   "source": []
  }
 ],
 "metadata": {
  "kernelspec": {
   "display_name": "Python 3",
   "language": "python",
   "name": "python3"
  },
  "language_info": {
   "codemirror_mode": {
    "name": "ipython",
    "version": 3
   },
   "file_extension": ".py",
   "mimetype": "text/x-python",
   "name": "python",
   "nbconvert_exporter": "python",
   "pygments_lexer": "ipython3",
   "version": "3.7.1"
  }
 },
 "nbformat": 4,
 "nbformat_minor": 2
}
