{
 "cells": [
  {
   "cell_type": "code",
   "execution_count": 5,
   "metadata": {},
   "outputs": [],
   "source": [
    "# Modules\n",
    "import os\n",
    "import csv\n",
    "import sys  #needed for writing the txt file\n",
    "import datetime #needed to convert the date of birth\n",
    "\n"
   ]
  },
  {
   "cell_type": "code",
   "execution_count": 6,
   "metadata": {},
   "outputs": [],
   "source": [
    "# Set path for file\n",
    "csvpath = os.path.join(\"Resources\", \"employee_data.csv\")\n",
    "\n",
    "l_orig_ID = []  #original ID column from the worksheet\n",
    "l_orig_name = []   #original name from the worksheet\n",
    "l_orig_dob = []  #original date of birth from the worksheet\n",
    "l_orig_ssn = []  #original social security number from the worksheet\n",
    "l_orig_state = []  # original state from the worksheet\n",
    "\n",
    "with open(csvpath, newline=\"\", encoding='utf-8') as csvfile:\n",
    "    \n",
    "    # CSV reader specifies delimiter and variable that holds contents\n",
    "    csvreader = csv.reader(csvfile, delimiter=\",\")\n",
    "    \n",
    "    next(csvreader, None)  #skip the header row  \n",
    "    \n",
    "    for row in csvreader:\n",
    "        #print(row)  #use this to confirm I am reading the file\n",
    "        \n",
    "        # Create a list for each row.\n",
    "        l_orig_ID.append(row[0])\n",
    "        l_orig_name.append(row[1])\n",
    "        l_orig_dob.append(row[2])\n",
    "        l_orig_ssn.append(row[3])\n",
    "        l_orig_state.append(row[4])  \n",
    "        "
   ]
  },
  {
   "cell_type": "code",
   "execution_count": 7,
   "metadata": {},
   "outputs": [],
   "source": [
    "#Create a list of formatted social security numbers\n",
    "\n",
    "l_formatted_ssn = []  #define the new social security list\n",
    "\n",
    "for each in l_orig_ssn:\n",
    "    each = (\"***-**-\" + each[7] + each[8] + each[9] + each[10])  #create the mask, then populate with the index values\n",
    "    l_formatted_ssn.append(each)  #Create a new list of formatted social security numbers\n"
   ]
  },
  {
   "cell_type": "code",
   "execution_count": 8,
   "metadata": {},
   "outputs": [
    {
     "data": {
      "text/plain": [
       "(['Mathews',\n",
       "  'Moore',\n",
       "  'Douglas',\n",
       "  'Andrews',\n",
       "  'Hernandez',\n",
       "  'Pena',\n",
       "  'Knight',\n",
       "  'Carroll',\n",
       "  'Dickerson',\n",
       "  'Gallegos'],\n",
       " ['John',\n",
       "  'Nathan',\n",
       "  'Amanda',\n",
       "  'Heather',\n",
       "  'Daniel',\n",
       "  'Danny',\n",
       "  'Gary',\n",
       "  'Robin',\n",
       "  'Michelle',\n",
       "  'Kimberly'])"
      ]
     },
     "execution_count": 8,
     "metadata": {},
     "output_type": "execute_result"
    }
   ],
   "source": [
    "#Create a list of first and last names\n",
    "\n",
    "l_formatted_lastName = []\n",
    "l_formatted_firstName = []\n",
    "\n",
    "for each in l_orig_name:\n",
    "    l_formatted_firstName.append(each.split()[0])\n",
    "    l_formatted_lastName.append(each.split()[1])\n",
    "    #each = each.split()[1]\n",
    "    #l_formatted_lastName.append(each)  #Create a new list of formatted last names\n",
    "\n",
    "#Tried this ine one for loop, but it always returned the last name.   This can be more efficient.\n",
    "    \n",
    "#for each in l_orig_name:\n",
    "    #each = each.split()[0]\n",
    "    #l_formatted_firstName.append(each)  #Create a new list of formatted first names\n",
    "    \n",
    "     #check the list\n",
    "l_formatted_lastName[0:10] , l_formatted_firstName[0:10]   #check the list"
   ]
  },
  {
   "cell_type": "code",
   "execution_count": 9,
   "metadata": {},
   "outputs": [
    {
     "data": {
      "text/plain": [
       "['289-31-9165',\n",
       " '220-05-7469',\n",
       " '564-27-6961',\n",
       " '742-79-1797',\n",
       " '656-01-7473',\n",
       " '158-33-9878',\n",
       " '782-25-1242',\n",
       " '606-48-7194',\n",
       " '707-24-2817',\n",
       " '653-52-7563']"
      ]
     },
     "execution_count": 9,
     "metadata": {},
     "output_type": "execute_result"
    }
   ],
   "source": [
    "l_orig_ssn[0:10]"
   ]
  },
  {
   "cell_type": "code",
   "execution_count": null,
   "metadata": {},
   "outputs": [],
   "source": [
    "#determine the types within a list\n",
    "for i in l_orig_dob:   #replace myLIst with a listName from my file\n",
    "    print(type(i)) #loop and print the type"
   ]
  },
  {
   "cell_type": "code",
   "execution_count": 13,
   "metadata": {},
   "outputs": [
    {
     "data": {
      "text/plain": [
       "['1991-02-24',\n",
       " '1978-11-19',\n",
       " '1990-01-08',\n",
       " '1976-08-11',\n",
       " '1976-07-22',\n",
       " '1978-01-31',\n",
       " '1994-03-08',\n",
       " '1972-10-14',\n",
       " '1984-02-08',\n",
       " '1972-08-05']"
      ]
     },
     "execution_count": 13,
     "metadata": {},
     "output_type": "execute_result"
    }
   ],
   "source": [
    "l_orig_dob[0:10]"
   ]
  },
  {
   "cell_type": "code",
   "execution_count": 1,
   "metadata": {},
   "outputs": [],
   "source": [
    "dob=\"1991-02-24\""
   ]
  },
  {
   "cell_type": "code",
   "execution_count": 4,
   "metadata": {},
   "outputs": [
    {
     "data": {
      "text/plain": [
       "'02/24/1991'"
      ]
     },
     "execution_count": 4,
     "metadata": {},
     "output_type": "execute_result"
    }
   ],
   "source": [
    "import datetime\n",
    "\n",
    "datetime.datetime.strptime(str(dob), \"%Y-%m-%d\").strftime(\"%m/%d/%Y\")"
   ]
  },
  {
   "cell_type": "code",
   "execution_count": 12,
   "metadata": {},
   "outputs": [
    {
     "data": {
      "text/plain": [
       "['11/19/1978',\n",
       " '01/08/1990',\n",
       " '08/11/1976',\n",
       " '07/22/1976',\n",
       " '01/31/1978',\n",
       " '03/08/1994',\n",
       " '10/14/1972',\n",
       " '02/08/1984',\n",
       " '08/05/1972']"
      ]
     },
     "execution_count": 12,
     "metadata": {},
     "output_type": "execute_result"
    }
   ],
   "source": [
    "#Create a list of formatted DOB\n",
    "l_formatted_dob = []\n",
    "\n",
    "for each in l_orig_dob:\n",
    "    #each = datetime.datetime.strptime(\"2013-1-25\", '%Y-%m-%d')\n",
    "    each = datetime.datetime.strptime(str(each), \"%Y-%m-%d\").strftime(\"%m/%d/%Y\")\n",
    "    l_formatted_dob.append(each)\n",
    "    \n",
    "l_formatted_dob[1:10]"
   ]
  },
  {
   "cell_type": "code",
   "execution_count": 13,
   "metadata": {},
   "outputs": [],
   "source": [
    "us_state_abbrev = {\n",
    "    'Alabama': 'AL',\n",
    "    'Alaska': 'AK',\n",
    "    'Arizona': 'AZ',\n",
    "    'Arkansas': 'AR',\n",
    "    'California': 'CA',\n",
    "    'Colorado': 'CO',\n",
    "    'Connecticut': 'CT',\n",
    "    'Delaware': 'DE',\n",
    "    'Florida': 'FL',\n",
    "    'Georgia': 'GA',\n",
    "    'Hawaii': 'HI',\n",
    "    'Idaho': 'ID',\n",
    "    'Illinois': 'IL',\n",
    "    'Indiana': 'IN',\n",
    "    'Iowa': 'IA',\n",
    "    'Kansas': 'KS',\n",
    "    'Kentucky': 'KY',\n",
    "    'Louisiana': 'LA',\n",
    "    'Maine': 'ME',\n",
    "    'Maryland': 'MD',\n",
    "    'Massachusetts': 'MA',\n",
    "    'Michigan': 'MI',\n",
    "    'Minnesota': 'MN',\n",
    "    'Mississippi': 'MS',\n",
    "    'Missouri': 'MO',\n",
    "    'Montana': 'MT',\n",
    "    'Nebraska': 'NE',\n",
    "    'Nevada': 'NV',\n",
    "    'New Hampshire': 'NH',\n",
    "    'New Jersey': 'NJ',\n",
    "    'New Mexico': 'NM',\n",
    "    'New York': 'NY',\n",
    "    'North Carolina': 'NC',\n",
    "    'North Dakota': 'ND',\n",
    "    'Ohio': 'OH',\n",
    "    'Oklahoma': 'OK',\n",
    "    'Oregon': 'OR',\n",
    "    'Pennsylvania': 'PA',\n",
    "    'Rhode Island': 'RI',\n",
    "    'South Carolina': 'SC',\n",
    "    'South Dakota': 'SD',\n",
    "    'Tennessee': 'TN',\n",
    "    'Texas': 'TX',\n",
    "    'Utah': 'UT',\n",
    "    'Vermont': 'VT',\n",
    "    'Virginia': 'VA',\n",
    "    'Washington': 'WA',\n",
    "    'West Virginia': 'WV',\n",
    "    'Wisconsin': 'WI',\n",
    "    'Wyoming': 'WY',\n",
    "}"
   ]
  },
  {
   "cell_type": "code",
   "execution_count": 16,
   "metadata": {},
   "outputs": [
    {
     "data": {
      "text/plain": [
       "dict"
      ]
     },
     "execution_count": 16,
     "metadata": {},
     "output_type": "execute_result"
    }
   ],
   "source": [
    "type(us_state_abbrev)"
   ]
  },
  {
   "cell_type": "code",
   "execution_count": 26,
   "metadata": {},
   "outputs": [
    {
     "name": "stdout",
     "output_type": "stream",
     "text": [
      "['WY', 'OR', 'NC']\n"
     ]
    }
   ],
   "source": [
    "myStates = [\"Wyoming\", \"Oregon\", \"North Carolina\"]\n",
    "#dic = {1:10, 2:20, 3:'foo'}\n",
    "\n",
    "print([us_state_abbrev.get(n, n) for n in myStates])\n"
   ]
  },
  {
   "cell_type": "code",
   "execution_count": 49,
   "metadata": {},
   "outputs": [
    {
     "ename": "TypeError",
     "evalue": "unhashable type: 'list'",
     "output_type": "error",
     "traceback": [
      "\u001b[1;31m---------------------------------------------------------------------------\u001b[0m",
      "\u001b[1;31mTypeError\u001b[0m                                 Traceback (most recent call last)",
      "\u001b[1;32m<ipython-input-49-4ba25cbc714f>\u001b[0m in \u001b[0;36m<module>\u001b[1;34m\u001b[0m\n\u001b[0;32m      4\u001b[0m \u001b[1;33m\u001b[0m\u001b[0m\n\u001b[0;32m      5\u001b[0m \u001b[1;32mfor\u001b[0m \u001b[0meach\u001b[0m \u001b[1;32min\u001b[0m \u001b[0ml_orig_state\u001b[0m\u001b[1;33m:\u001b[0m\u001b[1;33m\u001b[0m\u001b[1;33m\u001b[0m\u001b[0m\n\u001b[1;32m----> 6\u001b[1;33m     \u001b[0meach\u001b[0m \u001b[1;33m=\u001b[0m \u001b[1;33m[\u001b[0m\u001b[0mus_state_abbrev\u001b[0m\u001b[1;33m.\u001b[0m\u001b[0mget\u001b[0m\u001b[1;33m(\u001b[0m\u001b[0mn\u001b[0m\u001b[1;33m,\u001b[0m\u001b[0mn\u001b[0m\u001b[1;33m)\u001b[0m \u001b[1;32mfor\u001b[0m \u001b[0meach\u001b[0m \u001b[1;32min\u001b[0m \u001b[1;33m(\u001b[0m\u001b[0ml_orig_state\u001b[0m\u001b[1;33m)\u001b[0m\u001b[1;33m]\u001b[0m\u001b[1;33m\u001b[0m\u001b[1;33m\u001b[0m\u001b[0m\n\u001b[0m\u001b[0;32m      7\u001b[0m     \u001b[0ml_formatted_state\u001b[0m\u001b[1;33m.\u001b[0m\u001b[0mappend\u001b[0m\u001b[1;33m(\u001b[0m\u001b[0meach\u001b[0m\u001b[1;33m)\u001b[0m\u001b[1;33m\u001b[0m\u001b[1;33m\u001b[0m\u001b[0m\n\u001b[0;32m      8\u001b[0m \u001b[1;33m\u001b[0m\u001b[0m\n",
      "\u001b[1;32m<ipython-input-49-4ba25cbc714f>\u001b[0m in \u001b[0;36m<listcomp>\u001b[1;34m(.0)\u001b[0m\n\u001b[0;32m      4\u001b[0m \u001b[1;33m\u001b[0m\u001b[0m\n\u001b[0;32m      5\u001b[0m \u001b[1;32mfor\u001b[0m \u001b[0meach\u001b[0m \u001b[1;32min\u001b[0m \u001b[0ml_orig_state\u001b[0m\u001b[1;33m:\u001b[0m\u001b[1;33m\u001b[0m\u001b[1;33m\u001b[0m\u001b[0m\n\u001b[1;32m----> 6\u001b[1;33m     \u001b[0meach\u001b[0m \u001b[1;33m=\u001b[0m \u001b[1;33m[\u001b[0m\u001b[0mus_state_abbrev\u001b[0m\u001b[1;33m.\u001b[0m\u001b[0mget\u001b[0m\u001b[1;33m(\u001b[0m\u001b[0mn\u001b[0m\u001b[1;33m,\u001b[0m\u001b[0mn\u001b[0m\u001b[1;33m)\u001b[0m \u001b[1;32mfor\u001b[0m \u001b[0meach\u001b[0m \u001b[1;32min\u001b[0m \u001b[1;33m(\u001b[0m\u001b[0ml_orig_state\u001b[0m\u001b[1;33m)\u001b[0m\u001b[1;33m]\u001b[0m\u001b[1;33m\u001b[0m\u001b[1;33m\u001b[0m\u001b[0m\n\u001b[0m\u001b[0;32m      7\u001b[0m     \u001b[0ml_formatted_state\u001b[0m\u001b[1;33m.\u001b[0m\u001b[0mappend\u001b[0m\u001b[1;33m(\u001b[0m\u001b[0meach\u001b[0m\u001b[1;33m)\u001b[0m\u001b[1;33m\u001b[0m\u001b[1;33m\u001b[0m\u001b[0m\n\u001b[0;32m      8\u001b[0m \u001b[1;33m\u001b[0m\u001b[0m\n",
      "\u001b[1;31mTypeError\u001b[0m: unhashable type: 'list'"
     ]
    }
   ],
   "source": [
    "#Replace the state abbreviations\n",
    "\n",
    "l_formatted_state = []  #define the new state list\n",
    "\n",
    "for each in l_orig_state:\n",
    "    each = [us_state_abbrev.get(n,n) for each in (l_orig_state)]\n",
    "    l_formatted_state.append(each)\n",
    "    \n",
    "l_formatted_state[1:10], l_orig_state[1:10]"
   ]
  },
  {
   "cell_type": "code",
   "execution_count": 42,
   "metadata": {},
   "outputs": [
    {
     "name": "stdout",
     "output_type": "stream",
     "text": [
      "['ND', 'ME', 'ID', 'VT', 'CO', 'MN', 'AR', 'CA', 'TN', 'OR', 'TN', 'MD', 'MA', 'ME', 'KY', 'LA', 'RI', 'MT', 'PA', 'AL', 'ID', 'VA', 'MT', 'AR', 'CA', 'SD', 'RI', 'UT', 'WY', 'CO', 'VA', 'WI', 'NM', 'CA', 'NC', 'RI', 'SD', 'MD', 'SC', 'MI', 'SD', 'RI', 'CT', 'AL', 'MA', 'SC', 'HI', 'KS', 'NY', 'MO', 'AR', 'ID', 'MS', 'WA', 'AR', 'TX', 'NC', 'AK', 'FL', 'NE', 'DE', 'SD', 'VT', 'CA', 'IL', 'NY', 'KY', 'IL', 'MD', 'WI', 'OH', 'KY', 'WV', 'KS', 'MI', 'NH', 'AK', 'NJ', 'MI', 'IA', 'GA', 'SC', 'OH', 'TN', 'TN', 'KS', 'MS', 'NV', 'SD', 'NV', 'MI', 'WY', 'AR', 'WI', 'MI', 'ID', 'KS', 'CT', 'WY', 'ID', 'MT', 'MT', 'FL', 'WY', 'NH', 'IL', 'NY', 'ID', 'MN', 'NJ', 'FL', 'AZ', 'IA', 'HI', 'OH', 'AR', 'SD', 'OR', 'HI', 'CA', 'WV', 'ME', 'FL', 'PA', 'CT', 'GA', 'OH', 'MA', 'UT', 'NY', 'WV', 'TX', 'GA', 'ID', 'NY', 'MN', 'OK', 'CA', 'IN', 'MI', 'AL', 'OR', 'TN', 'WY', 'FL', 'CT', 'CO', 'SC', 'PA', 'ND', 'WV', 'CO', 'UT', 'LA', 'CA', 'MN', 'KS', 'MT', 'TN', 'ND', 'WY', 'SC', 'AL', 'MD', 'CA', 'HI', 'CT', 'NM', 'NV', 'GA', 'UT', 'NM', 'SC', 'TN', 'IL', 'MD', 'NH', 'CT', 'AK', 'OR', 'AL', 'RI', 'WV', 'KS', 'NY', 'MA', 'LA', 'AK', 'CO', 'KY', 'PA', 'ME', 'WI', 'UT', 'WA', 'TN', 'AK', 'LA', 'TX', 'CA', 'NH', 'NY', 'UT', 'IA', 'WI', 'VA', 'ME', 'CO', 'NM', 'TN', 'NV', 'SD', 'PA', 'AK', 'SD', 'MD', 'WV', 'GA', 'AR', 'WV', 'GA', 'WI', 'KY', 'SC', 'CO', 'WI', 'OH', 'NJ', 'GA', 'OH', 'LA', 'MI', 'CO', 'AR', 'CA', 'MI', 'IA', 'WY', 'CO', 'TX', 'DE', 'ID', 'GA', 'MS', 'ID', 'NH', 'OR', 'LA', 'NE', 'PA', 'MD', 'TN', 'DE', 'RI', 'MN', 'MA', 'OH', 'ID', 'CA', 'OR', 'MN', 'NH', 'WI', 'MS', 'HI', 'NE', 'WY', 'TX', 'MA', 'MS', 'MN', 'PA', 'ND', 'IN', 'WI', 'MT', 'MA', 'VA', 'AL', 'AR', 'NV', 'CO', 'WI', 'OH', 'VT', 'OR', 'IN', 'OH', 'NC', 'AZ', 'HI', 'MD', 'KY', 'NH', 'AZ', 'NM', 'NE', 'CA', 'NY', 'MT', 'LA', 'OR', 'WY', 'NE', 'NH', 'MA', 'AR', 'NH', 'ME', 'CA', 'MI', 'UT', 'MO', 'TX', 'DE', 'MS', 'MD', 'PA', 'OK', 'CO', 'FL', 'HI', 'RI', 'NE', 'WY', 'MN', 'SD', 'RI', 'FL', 'OK', 'NH', 'AL', 'MA', 'MO', 'PA', 'WA', 'DE', 'NC', 'LA', 'PA', 'KY', 'AL', 'CO', 'NJ', 'DE', 'MN', 'SD', 'OR', 'KS', 'IA', 'FL', 'MD', 'IN', 'NH', 'UT', 'MN', 'RI', 'MI', 'MI', 'OH', 'NE', 'TN', 'NM', 'WV', 'AK', 'CA', 'IL', 'AL', 'ID', 'ID', 'MD', 'SD', 'MI', 'HI', 'NH', 'GA', 'ND', 'CT', 'NE', 'MN', 'CA', 'ND', 'AL', 'MI', 'MO', 'NJ', 'PA', 'NH', 'CA', 'WA', 'AL', 'TN', 'MN', 'KY', 'DE', 'VT', 'AL', 'UT', 'VT', 'MA', 'MD', 'OK', 'MI', 'CT', 'WY', 'ME', 'CO', 'NV', 'WY', 'NM', 'TN', 'KS', 'MT', 'MO', 'NV', 'MA', 'PA', 'SD', 'HI', 'TN', 'NE', 'TX', 'AK', 'TX', 'GA', 'HI', 'FL', 'HI', 'OH', 'NY', 'AR', 'WI', 'AR', 'TN', 'RI', 'DE', 'MN', 'MN', 'NE', 'IL', 'KS', 'AR', 'NC', 'OH', 'FL', 'CT', 'OH', 'TN', 'MN', 'NY', 'IA', 'NE', 'IN', 'CT', 'AZ', 'NC', 'ID', 'GA', 'ID', 'NY', 'MT', 'NC', 'MN', 'MA', 'IL', 'NM', 'WY', 'VA', 'WI', 'GA', 'ND', 'ME', 'OK', 'NC', 'KS', 'OH', 'UT', 'KY', 'PA', 'MA', 'VA', 'OR', 'MS', 'NH', 'WY', 'ME', 'NV', 'WA', 'WA', 'NM', 'MT', 'WV', 'NH', 'IA', 'TX', 'AK', 'NV', 'IA', 'VA', 'SC', 'OH', 'RI', 'MA', 'PA', 'NE', 'HI', 'MD', 'GA', 'OR', 'MD', 'VA', 'ME', 'MS', 'LA', 'WV', 'LA', 'WA', 'PA', 'PA', 'NH', 'CA', 'WY', 'MA', 'WY', 'RI', 'NC', 'MO', 'WA', 'OK', 'DE', 'WA', 'AL', 'CT', 'NY', 'MD', 'UT', 'KS', 'IL', 'MO', 'AZ', 'SC', 'DE', 'OH', 'TN', 'NM', 'OK', 'OR', 'MI', 'PA', 'FL', 'NY', 'NV', 'VA', 'KS', 'OK', 'AK', 'AR', 'MN', 'CO', 'WY', 'NV', 'IA', 'NJ', 'KS', 'CO', 'CT', 'NY', 'WY', 'NE', 'AZ', 'TX', 'AR', 'AK', 'WA', 'OR', 'NY', 'HI', 'DE', 'AZ', 'MA', 'NM', 'TN', 'MN', 'AK', 'MO', 'NV', 'ID', 'AZ', 'LA', 'CO', 'AK', 'MN', 'IA', 'AK', 'MA', 'NE', 'WI', 'MN', 'MA', 'DE', 'OH', 'DE', 'MS', 'MO', 'HI', 'IN', 'MI', 'HI', 'NY', 'IA', 'MO', 'IN', 'NM', 'MT', 'VA', 'NH', 'NE', 'NC', 'MA', 'TX', 'NJ', 'OK', 'NM', 'IA', 'ME', 'AZ', 'OH', 'SD', 'NJ', 'ID', 'IL', 'OK', 'TX', 'MA', 'WA', 'WI', 'OH', 'TN', 'MD', 'IL', 'MA', 'KS', 'IL', 'CA', 'IN', 'NV', 'OK', 'OK', 'LA', 'OR']\n"
     ]
    }
   ],
   "source": [
    "#myStates = [\"Wyoming\", \"Oregon\", \"North Carolina\"]\n",
    "#dic = {1:10, 2:20, 3:'foo'}\n",
    "\n",
    "print([us_state_abbrev.get(n, n) for n in (l_orig_state)])"
   ]
  },
  {
   "cell_type": "code",
   "execution_count": 39,
   "metadata": {},
   "outputs": [
    {
     "data": {
      "text/plain": [
       "['North Dakota',\n",
       " 'Maine',\n",
       " 'Idaho',\n",
       " 'Vermont',\n",
       " 'Colorado',\n",
       " 'Minnesota',\n",
       " 'Arkansas',\n",
       " 'California',\n",
       " 'Tennessee',\n",
       " 'Oregon']"
      ]
     },
     "execution_count": 39,
     "metadata": {},
     "output_type": "execute_result"
    }
   ],
   "source": [
    "l_orig_state[0:10]"
   ]
  },
  {
   "cell_type": "code",
   "execution_count": 45,
   "metadata": {},
   "outputs": [
    {
     "data": {
      "text/plain": [
       "['Oregon']"
      ]
     },
     "execution_count": 45,
     "metadata": {},
     "output_type": "execute_result"
    }
   ],
   "source": [
    "l_formatted_state[0:10]"
   ]
  },
  {
   "cell_type": "code",
   "execution_count": null,
   "metadata": {},
   "outputs": [],
   "source": []
  }
 ],
 "metadata": {
  "kernelspec": {
   "display_name": "Python 3",
   "language": "python",
   "name": "python3"
  },
  "language_info": {
   "codemirror_mode": {
    "name": "ipython",
    "version": 3
   },
   "file_extension": ".py",
   "mimetype": "text/x-python",
   "name": "python",
   "nbconvert_exporter": "python",
   "pygments_lexer": "ipython3",
   "version": "3.7.1"
  }
 },
 "nbformat": 4,
 "nbformat_minor": 2
}
