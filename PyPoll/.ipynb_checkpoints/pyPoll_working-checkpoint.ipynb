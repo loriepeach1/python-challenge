{
 "cells": [
  {
   "cell_type": "code",
   "execution_count": 39,
   "metadata": {},
   "outputs": [
    {
     "name": "stdout",
     "output_type": "stream",
     "text": [
      "10.000\n"
     ]
    }
   ],
   "source": [
    "# Modules\n",
    "import os\n",
    "import csv\n",
    "import sys  #needed for writing the txt file\n",
    "\n",
    "# Set path for file\n",
    "csvpath = os.path.join(\"Resources\", \"election_data.csv\")"
   ]
  },
  {
   "cell_type": "code",
   "execution_count": 41,
   "metadata": {},
   "outputs": [
    {
     "name": "stdout",
     "output_type": "stream",
     "text": [
      "Election Results\n",
      "------------------------------------\n",
      "Total Votes: 3521001\n",
      "------------------------------------\n",
      "Khan:   63.000%    (2218231)\n",
      "Correy:   20.000%    (704200)\n",
      "Li:   14.000%    (492940)\n",
      "O'Tooley:   3.000%    (105630)\n",
      "------------------------------------\n",
      "Winner:  Khan\n",
      "------------------------------------\n"
     ]
    }
   ],
   "source": [
    "# Lists to store data\n",
    "wCandidate = []   #store the worksheet Candidate column as a list\n",
    "uniqueCandidate=[]  #list of unique candidate names\n",
    "candidateList = []  #List of candidate names \n",
    "candidateTotal = []  #List of candidate totals  \n",
    "\n",
    "with open(csvpath, newline=\"\", encoding='utf-8') as csvfile:\n",
    "    \n",
    "    # CSV reader specifies delimiter and variable that holds contents\n",
    "    csvreader = csv.reader(csvfile, delimiter=\",\")\n",
    "    \n",
    "    next(csvreader, None)  #skip the header row      \n",
    "      \n",
    "    #to determine the number of rows, create a list and count the list\n",
    "    for row in csvreader:\n",
    "        \n",
    "        #print(row)  #use this to confirm I am reading the file\n",
    "        \n",
    "        # Add each row to the list for wCandidate\n",
    "        wCandidate.append(row[2])     \n",
    "    \n",
    "    #Leave the For loop, and print results from the two lists to the screen and to the file.\n",
    "    \n",
    "    print(\"Election Results\")\n",
    "    print(\"------------------------------------\")\n",
    "    print(\"Total Votes: \" + str(len(wCandidate)))\n",
    "    print(\"------------------------------------\")\n",
    "    \n",
    "    #write to the output file\n",
    "    file = open('output.txt', 'w')   # this seems inefficient to leave this open throughout the processing.   Needed because my print results for each candidate are in a for loop.\n",
    "    \n",
    "    file.write(\"Election Results\" + '\\n')\n",
    "    file.write(\"------------------------------------\" + '\\n')\n",
    "    file.write(\"Total Votes: \" + str(len(wCandidate)) + '\\n')\n",
    "    file.write(\"------------------------------------\" + '\\n')\n",
    "    #'{0:.3f}'.format(Number)\n",
    "    \n",
    "    #Find the unique candidate names.   \n",
    "    for each in wCandidate:\n",
    "        if each not in uniqueCandidate:\n",
    "            uniqueCandidate.append(each)\n",
    "\n",
    "    #Calculate FOR EACH UNIQUE CANDIDATE, the total votes received and the percentage votes received\n",
    "    for each in uniqueCandidate:\n",
    "        cCount = wCandidate.count(each)  # count the number of times each candidate is listed\n",
    "        cPercent = round(((cCount / len(wCandidate))*100),5)  #calcualte percentage of total votes for each candidate\n",
    "    \n",
    "        print(each + \":   \"  + '{0:.3f}'.format(cPercent) +  \"%    (\" + str(cCount) + \")\")  #return 3 decimal places - do NOT use round\n",
    "        file.write(each + \":   \"  + '{0:.3f}'.format(cPercent) +  \"%    (\" + str(cCount) + \")\" + '\\n')\n",
    "    \n",
    "        candidateList.append(each)  #Create a new list of only candidate names.  \n",
    "        candidateTotal.append(cCount) #Create a new list of only candidate totals.\n",
    "    \n",
    "     #Leave the for loop\n",
    "    \n",
    "    print(\"------------------------------------\")\n",
    "    file.write(\"------------------------------------\" + '\\n')\n",
    "    \n",
    "    #Use max to find the winner\n",
    "    #print(candidateTotal)  #check my work\n",
    "    winner = candidateTotal.index(max(candidateTotal))  #returns the index number of the highest number of votes\n",
    "    print(\"Winner:  \" +  str(candidateList[(winner)]) )  #based on the index number, print the winner's name\n",
    "    print(\"------------------------------------\")\n",
    "    \n",
    "    file.write(\"Winner:  \" +  str(candidateList[(winner)]) + '\\n' )  \n",
    "    file.write(\"------------------------------------\" + '\\n')\n",
    "    \n",
    "file.close()"
   ]
  },
  {
   "cell_type": "code",
   "execution_count": 2,
   "metadata": {},
   "outputs": [
    {
     "name": "stdout",
     "output_type": "stream",
     "text": [
      "Election Results\n",
      "------------------------------------\n",
      "Total Votes: 3521001\n",
      "------------------------------------\n"
     ]
    }
   ],
   "source": [
    "# Lists to store data\n",
    "wCandidate = []   #store the worksheet Candidate column as a list\n",
    "candidateList = []  #List of candidate names \n",
    "candidateTotal = []  #List of candidate totals  \n",
    "\n",
    "with open(csvpath, newline=\"\", encoding='utf-8') as csvfile:\n",
    "    \n",
    "    # CSV reader specifies delimiter and variable that holds contents\n",
    "    csvreader = csv.reader(csvfile, delimiter=\",\")\n",
    "    \n",
    "    next(csvreader, None)  #skip the header row      \n",
    "      \n",
    "    #to determine the number of rows, create a list and count the list\n",
    "    for row in csvreader:\n",
    "        \n",
    "        #print(row)  #use this to confirm I am reading the file\n",
    "        \n",
    "        # Add each row to the list for wCandidate\n",
    "        wCandidate.append(row[2])     \n",
    "    \n",
    "    #Leave the For loop, and print results from the list to the screen and to the file.\n",
    "    \n",
    "    print(\"Election Results\")\n",
    "    print(\"------------------------------------\")\n",
    "    print(\"Total Votes: \" + str(len(wCandidate)))\n",
    "    print(\"------------------------------------\")\n",
    "    \n",
    "    #write to the output file\n",
    "    file = open('output.txt', 'w')   # this seems inefficient to leave this open throughout the processing.   Needed because my print results for each candidate are in a for loop.\n",
    "    \n",
    "    file.write(\"Election Results\" + '\\n')\n",
    "    file.write(\"------------------------------------\" + '\\n')\n",
    "    file.write(\"Total Votes: \" + str(len(wCandidate)) + '\\n')\n",
    "    file.write(\"------------------------------------\" + '\\n')\n",
    "    #'{0:.3f}'.format(Number)\n",
    "  "
   ]
  },
  {
   "cell_type": "code",
   "execution_count": null,
   "metadata": {},
   "outputs": [],
   "source": [
    "print(wCandidate)"
   ]
  },
  {
   "cell_type": "code",
   "execution_count": null,
   "metadata": {},
   "outputs": [],
   "source": [
    "#Leave the For loop, and print results from the two lists to the screen and to the file.\n",
    "    \n",
    "print(\"Election Results\")\n",
    "print(\"------------------------------------\")\n",
    "print(\"Total Votes: \" + str(len(wCandidate)))\n",
    "print(\"------------------------------------\")"
   ]
  },
  {
   "cell_type": "code",
   "execution_count": null,
   "metadata": {},
   "outputs": [],
   "source": [
    "    print(cCount)"
   ]
  },
  {
   "cell_type": "code",
   "execution_count": 4,
   "metadata": {},
   "outputs": [
    {
     "data": {
      "text/plain": [
       "['Correy', 'Khan', 'Khan', 'Khan', 'Li', 'Correy', 'Khan', 'Khan', 'Correy']"
      ]
     },
     "execution_count": 4,
     "metadata": {},
     "output_type": "execute_result"
    }
   ],
   "source": [
    "wCandidate[1:10]"
   ]
  },
  {
   "cell_type": "code",
   "execution_count": 3,
   "metadata": {},
   "outputs": [
    {
     "data": {
      "text/plain": [
       "[]"
      ]
     },
     "execution_count": 3,
     "metadata": {},
     "output_type": "execute_result"
    }
   ],
   "source": [
    "candidateList[1:10]"
   ]
  },
  {
   "cell_type": "code",
   "execution_count": 6,
   "metadata": {},
   "outputs": [
    {
     "name": "stdout",
     "output_type": "stream",
     "text": [
      "<built-in method count of list object at 0x000002B0548AAC88>\n"
     ]
    }
   ],
   "source": [
    "cCount = wCandidate.count  # count the number of times each candidate is listed\n",
    "print(cCount)"
   ]
  },
  {
   "cell_type": "code",
   "execution_count": 30,
   "metadata": {},
   "outputs": [
    {
     "name": "stdout",
     "output_type": "stream",
     "text": [
      "<built-in method count of list object at 0x000002B8ECF08708>\n"
     ]
    }
   ],
   "source": [
    "print(cCount)"
   ]
  },
  {
   "cell_type": "code",
   "execution_count": 10,
   "metadata": {},
   "outputs": [],
   "source": [
    "uniqueCandidate=[]\n",
    "for each in wCandidate:\n",
    "    if each not in uniqueCandidate:\n",
    "        uniqueCandidate.append(each)"
   ]
  },
  {
   "cell_type": "code",
   "execution_count": 11,
   "metadata": {},
   "outputs": [
    {
     "name": "stdout",
     "output_type": "stream",
     "text": [
      "['Khan', 'Correy', 'Li', \"O'Tooley\"]\n"
     ]
    }
   ],
   "source": [
    "print(uniqueCandidate)"
   ]
  },
  {
   "cell_type": "code",
   "execution_count": 37,
   "metadata": {},
   "outputs": [
    {
     "name": "stdout",
     "output_type": "stream",
     "text": [
      "Khan:   63.000%    (2218231)\n"
     ]
    },
    {
     "ename": "ValueError",
     "evalue": "I/O operation on closed file.",
     "output_type": "error",
     "traceback": [
      "\u001b[1;31m---------------------------------------------------------------------------\u001b[0m",
      "\u001b[1;31mValueError\u001b[0m                                Traceback (most recent call last)",
      "\u001b[1;32m<ipython-input-37-4b6e211d9394>\u001b[0m in \u001b[0;36m<module>\u001b[1;34m\u001b[0m\n\u001b[0;32m      5\u001b[0m \u001b[1;33m\u001b[0m\u001b[0m\n\u001b[0;32m      6\u001b[0m    \u001b[0mprint\u001b[0m\u001b[1;33m(\u001b[0m\u001b[0meach\u001b[0m \u001b[1;33m+\u001b[0m \u001b[1;34m\":   \"\u001b[0m  \u001b[1;33m+\u001b[0m \u001b[1;34m'{0:.3f}'\u001b[0m\u001b[1;33m.\u001b[0m\u001b[0mformat\u001b[0m\u001b[1;33m(\u001b[0m\u001b[0mcPercent\u001b[0m\u001b[1;33m)\u001b[0m \u001b[1;33m+\u001b[0m  \u001b[1;34m\"%    (\"\u001b[0m \u001b[1;33m+\u001b[0m \u001b[0mstr\u001b[0m\u001b[1;33m(\u001b[0m\u001b[0mcCount\u001b[0m\u001b[1;33m)\u001b[0m \u001b[1;33m+\u001b[0m \u001b[1;34m\")\"\u001b[0m\u001b[1;33m)\u001b[0m\u001b[1;33m\u001b[0m\u001b[1;33m\u001b[0m\u001b[0m\n\u001b[1;32m----> 7\u001b[1;33m    \u001b[0mfile\u001b[0m\u001b[1;33m.\u001b[0m\u001b[0mwrite\u001b[0m\u001b[1;33m(\u001b[0m\u001b[0meach\u001b[0m \u001b[1;33m+\u001b[0m \u001b[1;34m\":   \"\u001b[0m  \u001b[1;33m+\u001b[0m \u001b[1;34m'{0:.3f}'\u001b[0m\u001b[1;33m.\u001b[0m\u001b[0mformat\u001b[0m\u001b[1;33m(\u001b[0m\u001b[0mcPercent\u001b[0m\u001b[1;33m)\u001b[0m \u001b[1;33m+\u001b[0m  \u001b[1;34m\"%    (\"\u001b[0m \u001b[1;33m+\u001b[0m \u001b[0mstr\u001b[0m\u001b[1;33m(\u001b[0m\u001b[0mcCount\u001b[0m\u001b[1;33m)\u001b[0m \u001b[1;33m+\u001b[0m \u001b[1;34m\")\"\u001b[0m \u001b[1;33m+\u001b[0m \u001b[1;34m'\\n'\u001b[0m\u001b[1;33m)\u001b[0m\u001b[1;33m\u001b[0m\u001b[1;33m\u001b[0m\u001b[0m\n\u001b[0m\u001b[0;32m      8\u001b[0m \u001b[1;33m\u001b[0m\u001b[0m\n\u001b[0;32m      9\u001b[0m    \u001b[0mcandidateList\u001b[0m\u001b[1;33m.\u001b[0m\u001b[0mappend\u001b[0m\u001b[1;33m(\u001b[0m\u001b[0meach\u001b[0m\u001b[1;33m)\u001b[0m  \u001b[1;31m#Create a new list of only candidate names.\u001b[0m\u001b[1;33m\u001b[0m\u001b[1;33m\u001b[0m\u001b[0m\n",
      "\u001b[1;31mValueError\u001b[0m: I/O operation on closed file."
     ]
    }
   ],
   "source": [
    " #Calculate FOR EACH UNIQUE CANDIDATE, the total votes received and the percentage votes received\n",
    "for each in uniqueCandidate:\n",
    "    cCount = wCandidate.count(each)  # count the number of times each candidate is listed\n",
    "    cPercent = ((cCount / len(wCandidate))*100)  #calcualte percentage of total votes for each candidate ??rounds to one digit due to total.   Ask a TA\n",
    "    \n",
    "    print(each + \":   \"  + '{0:.3f}'.format(cPercent) +  \"%    (\" + str(cCount) + \")\")\n",
    "    file.write(each + \":   \"  + '{0:.3f}'.format(cPercent) +  \"%    (\" + str(cCount) + \")\" + '\\n')\n",
    "    \n",
    "    candidateList.append(each)  #Create a new list of only candidate names.  \n",
    "    candidateTotal.append(cCount) #Create a new list of only candidate totals.\n",
    "    \n",
    "     #Leave the for loop"
   ]
  },
  {
   "cell_type": "code",
   "execution_count": 28,
   "metadata": {},
   "outputs": [
    {
     "name": "stdout",
     "output_type": "stream",
     "text": [
      "11.000000\n"
     ]
    }
   ],
   "source": [
    "#function for decimal place.. the .3 means 3 decimals over. .2 means two decimals and so on\n",
    "print('{0:.6f}'.format(num))"
   ]
  },
  {
   "cell_type": "code",
   "execution_count": 26,
   "metadata": {},
   "outputs": [],
   "source": [
    "num = 11.00000006543\n"
   ]
  },
  {
   "cell_type": "code",
   "execution_count": 32,
   "metadata": {},
   "outputs": [
    {
     "name": "stdout",
     "output_type": "stream",
     "text": [
      "Winner:  Khan\n",
      "------------------------------------\n"
     ]
    }
   ],
   "source": [
    "#print(candidateTotal)\n",
    "winner = candidateTotal.index(max(candidateTotal))  #returns the index number of the highest number of votes\n",
    "print(\"Winner:  \" +  str(candidateList[(winner)]) )  #based on the index number, print the winner's name\n",
    "print(\"------------------------------------\")"
   ]
  },
  {
   "cell_type": "code",
   "execution_count": 38,
   "metadata": {},
   "outputs": [
    {
     "name": "stdout",
     "output_type": "stream",
     "text": [
      "Election Results\n",
      "------------------------------------\n",
      "Total Votes: 3521001\n",
      "------------------------------------\n",
      "Khan:   63.000%    (2218231)\n",
      "Correy:   20.000%    (704200)\n",
      "Li:   14.000%    (492940)\n",
      "O'Tooley:   3.000%    (105630)\n",
      "------------------------------------\n",
      "Winner:  Khan\n",
      "------------------------------------\n"
     ]
    }
   ],
   "source": [
    "# Lists to store data\n",
    "wCandidate = []   #store the worksheet Candidate column as a list\n",
    "uniqueCandidate=[]  #list of unique candidate names\n",
    "candidateList = []  #List of candidate names \n",
    "candidateTotal = []  #List of candidate totals  \n",
    "\n",
    "with open(csvpath, newline=\"\", encoding='utf-8') as csvfile:\n",
    "    \n",
    "    # CSV reader specifies delimiter and variable that holds contents\n",
    "    csvreader = csv.reader(csvfile, delimiter=\",\")\n",
    "    \n",
    "    next(csvreader, None)  #skip the header row      \n",
    "      \n",
    "    #to determine the number of rows, create a list and count the list\n",
    "    for row in csvreader:\n",
    "        \n",
    "        #print(row)  #use this to confirm I am reading the file\n",
    "        \n",
    "        # Add each row to the list for wCandidate\n",
    "        wCandidate.append(row[2])     \n",
    "    \n",
    "    #Leave the For loop, and print results from the two lists to the screen and to the file.\n",
    "    \n",
    "    print(\"Election Results\")\n",
    "    print(\"------------------------------------\")\n",
    "    print(\"Total Votes: \" + str(len(wCandidate)))\n",
    "    print(\"------------------------------------\")\n",
    "    \n",
    "    #write to the output file\n",
    "    file = open('output.txt', 'w')   # this seems inefficient to leave this open throughout the processing.   Needed because my print results for each candidate are in a for loop.\n",
    "    \n",
    "    file.write(\"Election Results\" + '\\n')\n",
    "    file.write(\"------------------------------------\" + '\\n')\n",
    "    file.write(\"Total Votes: \" + str(len(wCandidate)) + '\\n')\n",
    "    file.write(\"------------------------------------\" + '\\n')\n",
    "    #'{0:.3f}'.format(Number)\n",
    "    \n",
    "    #Find the unique candidate names.   \n",
    "    for each in wCandidate:\n",
    "        if each not in uniqueCandidate:\n",
    "            uniqueCandidate.append(each)\n",
    "\n",
    "    #Calculate FOR EACH UNIQUE CANDIDATE, the total votes received and the percentage votes received\n",
    "    for each in uniqueCandidate:\n",
    "        cCount = wCandidate.count(each)  # count the number of times each candidate is listed\n",
    "        cPercent = round(((cCount / len(wCandidate))*100),5)  #calcualte percentage of total votes for each candidate ??rounds to one digit due to total.   Ask a TA\n",
    "    \n",
    "        print(each + \":   \"  + '{0:.3f}'.format(cPercent) +  \"%    (\" + str(cCount) + \")\")\n",
    "        file.write(each + \":   \"  + str(cPercent) +  \"%    (\" + str(cCount) + \")\" + '\\n')\n",
    "    \n",
    "        candidateList.append(each)  #Create a new list of only candidate names.  \n",
    "        candidateTotal.append(cCount) #Create a new list of only candidate totals.\n",
    "    \n",
    "     #Leave the for loop\n",
    "    \n",
    "    print(\"------------------------------------\")\n",
    "    file.write(\"------------------------------------\" + '\\n')\n",
    "    \n",
    "    #Use max to find the winner\n",
    "    #print(candidateTotal)  #check my work\n",
    "    winner = candidateTotal.index(max(candidateTotal))  #returns the index number of the highest number of votes\n",
    "    print(\"Winner:  \" +  str(candidateList[(winner)]) )  #based on the index number, print the winner's name\n",
    "    print(\"------------------------------------\")\n",
    "    \n",
    "    file.write(\"Winner:  \" +  str(candidateList[(winner)]) + '\\n' )  \n",
    "    file.write(\"------------------------------------\" + '\\n')\n",
    "    \n",
    "file.close()"
   ]
  },
  {
   "cell_type": "code",
   "execution_count": null,
   "metadata": {},
   "outputs": [],
   "source": []
  }
 ],
 "metadata": {
  "kernelspec": {
   "display_name": "Python 3",
   "language": "python",
   "name": "python3"
  },
  "language_info": {
   "codemirror_mode": {
    "name": "ipython",
    "version": 3
   },
   "file_extension": ".py",
   "mimetype": "text/x-python",
   "name": "python",
   "nbconvert_exporter": "python",
   "pygments_lexer": "ipython3",
   "version": "3.7.1"
  }
 },
 "nbformat": 4,
 "nbformat_minor": 2
}
