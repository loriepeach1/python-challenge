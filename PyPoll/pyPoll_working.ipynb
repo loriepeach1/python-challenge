{
 "cells": [
  {
   "cell_type": "code",
   "execution_count": 2,
   "metadata": {},
   "outputs": [],
   "source": [
    "# Modules\n",
    "import os\n",
    "import csv\n",
    "import sys  #needed for writing the txt file\n",
    "\n",
    "# Set path for file\n",
    "csvpath = os.path.join(\"Resources\", \"election_data.csv\")"
   ]
  },
  {
   "cell_type": "code",
   "execution_count": 6,
   "metadata": {},
   "outputs": [
    {
     "name": "stdout",
     "output_type": "stream",
     "text": [
      "Election Results\n",
      "------------------------------------\n",
      "Total Months: 3521001\n",
      "------------------------------------\n"
     ]
    }
   ],
   "source": [
    "# Lists to store data\n",
    "wVoter = []     #store the worksheet date as a list\n",
    "\n",
    "# with open(fileName, newline=\"\", encoding='utf-8') as csvfile.   Do I need the 'r'??\n",
    "with open(csvpath, newline=\"\") as csvfile:\n",
    "    \n",
    "    # CSV reader specifies delimiter and variable that holds contents\n",
    "    csvreader = csv.reader(csvfile, delimiter=\",\")\n",
    "    \n",
    "    next(csvreader, None)  #skip the header row      \n",
    "      \n",
    "    #to determine the number of rows, create a list and count the list\n",
    "    for row in csvreader:\n",
    "        \n",
    "        #print(row)  #use this to confirm I am reading the file\n",
    "        \n",
    "        # Add each row to the list fo wVoter\n",
    "        wVoter.append(row[0])\n",
    "        \n",
    "    \n",
    "    #Leave the For loop, and print results from the two lists\n",
    "    print(\"Election Results\")\n",
    "    print(\"------------------------------------\")\n",
    "    print(\"Total Months: \" + str(len(wVoter)))\n",
    "    print(\"------------------------------------\")\n",
    "    \n",
    "      #Print the data on the screen to a txt file\n",
    "    #-------------------------------------------\n",
    "file = open('output.txt', 'w')\n",
    "file.write(\"Election Results\" + '\\n')\n",
    "file.write(\"------------------------------------\" + '\\n')\n",
    "file.write(\"Total Months: \" + str(len(wVoter)) + '\\n')\n",
    "file.write(\"------------------------------------\" + '\\n')\n",
    "file.close()"
   ]
  },
  {
   "cell_type": "code",
   "execution_count": null,
   "metadata": {},
   "outputs": [],
   "source": []
  }
 ],
 "metadata": {
  "kernelspec": {
   "display_name": "Python 3",
   "language": "python",
   "name": "python3"
  },
  "language_info": {
   "codemirror_mode": {
    "name": "ipython",
    "version": 3
   },
   "file_extension": ".py",
   "mimetype": "text/x-python",
   "name": "python",
   "nbconvert_exporter": "python",
   "pygments_lexer": "ipython3",
   "version": "3.7.1"
  }
 },
 "nbformat": 4,
 "nbformat_minor": 2
}
