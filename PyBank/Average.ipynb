{
 "cells": [
  {
   "cell_type": "code",
   "execution_count": 13,
   "metadata": {},
   "outputs": [],
   "source": [
    "def fAverage(numbers):\n",
    "    length = len(numbers)\n",
    "    total = 0.0\n",
    "    for number in numbers:\n",
    "        total += number\n",
    "    return total / length\n"
   ]
  },
  {
   "cell_type": "code",
   "execution_count": 4,
   "metadata": {},
   "outputs": [
    {
     "data": {
      "text/plain": [
       "16.666666666666668"
      ]
     },
     "execution_count": 4,
     "metadata": {},
     "output_type": "execute_result"
    }
   ],
   "source": [
    "average([10,15,25])"
   ]
  },
  {
   "cell_type": "code",
   "execution_count": 5,
   "metadata": {},
   "outputs": [],
   "source": [
    "a = [40, 100,90]"
   ]
  },
  {
   "cell_type": "code",
   "execution_count": 6,
   "metadata": {},
   "outputs": [
    {
     "data": {
      "text/plain": [
       "76.66666666666667"
      ]
     },
     "execution_count": 6,
     "metadata": {},
     "output_type": "execute_result"
    }
   ],
   "source": [
    "average(a)"
   ]
  },
  {
   "cell_type": "code",
   "execution_count": 7,
   "metadata": {},
   "outputs": [
    {
     "name": "stdin",
     "output_type": "stream",
     "text": [
      "What is your grade? 95\n"
     ]
    }
   ],
   "source": [
    "b = (input(\"What is your grade?\"))"
   ]
  },
  {
   "cell_type": "markdown",
   "metadata": {},
   "source": [
    "average(b)"
   ]
  },
  {
   "cell_type": "code",
   "execution_count": 21,
   "metadata": {},
   "outputs": [
    {
     "ename": "TypeError",
     "evalue": "'list' object is not callable",
     "output_type": "error",
     "traceback": [
      "\u001b[1;31m---------------------------------------------------------------------------\u001b[0m",
      "\u001b[1;31mTypeError\u001b[0m                                 Traceback (most recent call last)",
      "\u001b[1;32m<ipython-input-21-6a3c89acc928>\u001b[0m in \u001b[0;36m<module>\u001b[1;34m\u001b[0m\n\u001b[1;32m----> 1\u001b[1;33m \u001b[0maverage\u001b[0m\u001b[1;33m(\u001b[0m\u001b[0mb\u001b[0m\u001b[1;33m(\u001b[0m\u001b[1;33m[\u001b[0m\u001b[0mfloat\u001b[0m\u001b[1;33m(\u001b[0m\u001b[0mi\u001b[0m\u001b[1;33m)\u001b[0m \u001b[1;32mfor\u001b[0m \u001b[0mi\u001b[0m \u001b[1;32min\u001b[0m \u001b[0mb\u001b[0m\u001b[1;33m]\u001b[0m\u001b[1;33m)\u001b[0m\u001b[1;33m)\u001b[0m\u001b[1;33m\u001b[0m\u001b[1;33m\u001b[0m\u001b[0m\n\u001b[0m",
      "\u001b[1;31mTypeError\u001b[0m: 'list' object is not callable"
     ]
    }
   ],
   "source": [
    "average(b([float(i) for i in b]))"
   ]
  },
  {
   "cell_type": "code",
   "execution_count": 20,
   "metadata": {},
   "outputs": [],
   "source": [
    "b = [float(i) for i in b]\n"
   ]
  },
  {
   "cell_type": "code",
   "execution_count": 12,
   "metadata": {},
   "outputs": [
    {
     "data": {
      "text/plain": [
       "7.0"
      ]
     },
     "execution_count": 12,
     "metadata": {},
     "output_type": "execute_result"
    }
   ],
   "source": [
    "average(b)"
   ]
  },
  {
   "cell_type": "code",
   "execution_count": 14,
   "metadata": {},
   "outputs": [
    {
     "data": {
      "text/plain": [
       "76.66666666666667"
      ]
     },
     "execution_count": 14,
     "metadata": {},
     "output_type": "execute_result"
    }
   ],
   "source": [
    "fAverage(a)"
   ]
  },
  {
   "cell_type": "code",
   "execution_count": 15,
   "metadata": {},
   "outputs": [
    {
     "data": {
      "text/plain": [
       "7.0"
      ]
     },
     "execution_count": 15,
     "metadata": {},
     "output_type": "execute_result"
    }
   ],
   "source": [
    "fAverage(b)"
   ]
  },
  {
   "cell_type": "code",
   "execution_count": 16,
   "metadata": {},
   "outputs": [
    {
     "name": "stdout",
     "output_type": "stream",
     "text": [
      "[9.0, 5.0]\n"
     ]
    }
   ],
   "source": [
    "print(b)"
   ]
  },
  {
   "cell_type": "code",
   "execution_count": 17,
   "metadata": {},
   "outputs": [
    {
     "data": {
      "text/plain": [
       "7.0"
      ]
     },
     "execution_count": 17,
     "metadata": {},
     "output_type": "execute_result"
    }
   ],
   "source": [
    "fAverage(b)"
   ]
  },
  {
   "cell_type": "code",
   "execution_count": 18,
   "metadata": {},
   "outputs": [],
   "source": [
    "num = ['1', '2', '', '6']\n",
    "L = [float(n) for n in num if n]\n",
    "avg = sum(L)/len(L) if L else '-'"
   ]
  },
  {
   "cell_type": "code",
   "execution_count": 19,
   "metadata": {},
   "outputs": [
    {
     "name": "stdout",
     "output_type": "stream",
     "text": [
      "3.0\n"
     ]
    }
   ],
   "source": [
    "print(avg)"
   ]
  },
  {
   "cell_type": "code",
   "execution_count": 22,
   "metadata": {},
   "outputs": [
    {
     "data": {
      "text/plain": [
       "0          NaN\n",
       "1     0.069079\n",
       "2    -0.024615\n",
       "3    -0.015773\n",
       "4     0.048077\n",
       "5     0.042813\n",
       "6     0.049853\n",
       "7     0.055866\n",
       "8    -0.039683\n",
       "9     0.000000\n",
       "10   -0.019284\n",
       "dtype: float64"
      ]
     },
     "execution_count": 22,
     "metadata": {},
     "output_type": "execute_result"
    }
   ],
   "source": [
    "import pandas as pd\n",
    "prices = [30.4, 32.5, 31.7, 31.2, 32.7, 34.1, 35.8, 37.8, 36.3, 36.3, 35.6]\n",
    "\n",
    "price_series = pd.Series(prices)\n",
    "price_series.pct_change()"
   ]
  },
  {
   "cell_type": "code",
   "execution_count": 23,
   "metadata": {},
   "outputs": [
    {
     "name": "stdout",
     "output_type": "stream",
     "text": [
      "0     30.4\n",
      "1     32.5\n",
      "2     31.7\n",
      "3     31.2\n",
      "4     32.7\n",
      "5     34.1\n",
      "6     35.8\n",
      "7     37.8\n",
      "8     36.3\n",
      "9     36.3\n",
      "10    35.6\n",
      "dtype: float64\n"
     ]
    }
   ],
   "source": [
    "print(price_series)"
   ]
  },
  {
   "cell_type": "code",
   "execution_count": 25,
   "metadata": {},
   "outputs": [
    {
     "name": "stdout",
     "output_type": "stream",
     "text": [
      "6.907894736842111\n",
      "-2.461538461538464\n",
      "-1.5772870662460567\n",
      "4.807692307692319\n",
      "4.2813455657492305\n",
      "4.985337243401747\n",
      "5.5865921787709505\n",
      "-3.9682539682539684\n",
      "0.0\n",
      "-1.9283746556473713\n"
     ]
    }
   ],
   "source": [
    "prices = [30.4, 32.5, 31.7, 31.2, 32.7, 34.1, 35.8, 37.8, 36.3, 36.3, 35.6]\n",
    "\n",
    "for a, b in zip(prices[::1], prices[1::1]):\n",
    "    print(100 * (b - a) / a)"
   ]
  },
  {
   "cell_type": "code",
   "execution_count": 26,
   "metadata": {},
   "outputs": [
    {
     "ename": "SyntaxError",
     "evalue": "invalid syntax (<ipython-input-26-da0f8a867895>, line 1)",
     "output_type": "error",
     "traceback": [
      "\u001b[1;36m  File \u001b[1;32m\"<ipython-input-26-da0f8a867895>\"\u001b[1;36m, line \u001b[1;32m1\u001b[0m\n\u001b[1;33m    print [100 * (b - a) / a for a, b in zip(prices[::1], prices[1::1])]\u001b[0m\n\u001b[1;37m                               ^\u001b[0m\n\u001b[1;31mSyntaxError\u001b[0m\u001b[1;31m:\u001b[0m invalid syntax\n"
     ]
    }
   ],
   "source": [
    "print [100 * (b - a) / a for a, b in zip(prices[::1], prices[1::1])]"
   ]
  },
  {
   "cell_type": "code",
   "execution_count": 30,
   "metadata": {},
   "outputs": [
    {
     "name": "stdout",
     "output_type": "stream",
     "text": [
      "2.1000000000000014\n",
      "-0.8000000000000007\n",
      "-0.5\n",
      "1.5000000000000036\n",
      "1.3999999999999986\n",
      "1.6999999999999957\n",
      "2.0\n",
      "-1.5\n",
      "0.0\n",
      "-0.6999999999999957\n"
     ]
    }
   ],
   "source": [
    "for i in range(1,len(prices)):\n",
    "    print(prices[i]-prices[i-1])\n",
    "       #print ((prices[i]-prices[i-1])/prices[i-1]*100) WRONG VALUES"
   ]
  },
  {
   "cell_type": "code",
   "execution_count": 31,
   "metadata": {},
   "outputs": [],
   "source": [
    "aa = [100,105,100,95,100]\n"
   ]
  },
  {
   "cell_type": "code",
   "execution_count": 32,
   "metadata": {},
   "outputs": [],
   "source": [
    "def calc_period_returns(values, period):\n",
    "    output = []\n",
    "    startpos, endpos = (period, len(values)-1)"
   ]
  },
  {
   "cell_type": "code",
   "execution_count": 34,
   "metadata": {},
   "outputs": [
    {
     "data": {
      "text/plain": [
       "[5.0, -4.761904761904762, -5.0, 5.263157894736842]"
      ]
     },
     "execution_count": 34,
     "metadata": {},
     "output_type": "execute_result"
    }
   ],
   "source": [
    "aa = [100,105,100,95,100]\n",
    "\n",
    "def calc_period_returns(values, period):\n",
    "    output = []\n",
    "    startpos, endpos = (period, len(values)-1)\n",
    "\n",
    "    while True:\n",
    "        current = values[startpos]\n",
    "        previous = values[startpos-period]\n",
    "        ret = 100*((current-previous)/(1.0*previous))\n",
    "        output.append(ret)\n",
    "        startpos += period\n",
    "        if startpos > endpos:\n",
    "            break\n",
    "    return output\n",
    "\n",
    "\n",
    "calc_period_returns(aa,1)\n"
   ]
  },
  {
   "cell_type": "code",
   "execution_count": 36,
   "metadata": {},
   "outputs": [],
   "source": [
    "# https://stackoverflow.com/questions/10226551/whats-the-most-pythonic-way-to-calculate-percentage-changes-on-a-list-of-numbers\n",
    "#  https://stackoverflow.com/questions/12700166/calculating-change-in-percentage-between-two-numbers-python"
   ]
  },
  {
   "cell_type": "code",
   "execution_count": 90,
   "metadata": {},
   "outputs": [],
   "source": [
    "prices = [30.4, 32.5, 31.7, 31.2, 32.7, 34.1, 35.8, 37.8, 36.3, 36.3, 35.6]\n",
    "\n",
    "def f(peaches):\n",
    "    for i in range(1,len(peaches)):\n",
    "        runAvg.append(peaches[i]-peaches[i-1])\n",
    "    print(\"All done.   Prin runAvg to see the averages.\")"
   ]
  },
  {
   "cell_type": "code",
   "execution_count": 75,
   "metadata": {},
   "outputs": [
    {
     "name": "stdout",
     "output_type": "stream",
     "text": [
      "[2.1000000000000014, -0.8000000000000007, -0.5, 1.5000000000000036, 1.3999999999999986, 1.6999999999999957, 2.0, -1.5, 0.0, -0.6999999999999957]\n"
     ]
    }
   ],
   "source": [
    "print(runAvg)"
   ]
  },
  {
   "cell_type": "code",
   "execution_count": 44,
   "metadata": {},
   "outputs": [],
   "source": [
    "runAvg = []"
   ]
  },
  {
   "cell_type": "code",
   "execution_count": 52,
   "metadata": {},
   "outputs": [
    {
     "name": "stdout",
     "output_type": "stream",
     "text": [
      "[2.1000000000000014, -0.8000000000000007, -0.5, 1.5000000000000036, 1.3999999999999986, 1.6999999999999957, 2.0, -1.5, 0.0, -0.6999999999999957]\n"
     ]
    }
   ],
   "source": [
    "print(runAvg)"
   ]
  },
  {
   "cell_type": "code",
   "execution_count": 51,
   "metadata": {},
   "outputs": [],
   "source": [
    "f(prices)"
   ]
  },
  {
   "cell_type": "code",
   "execution_count": 53,
   "metadata": {},
   "outputs": [],
   "source": [
    "grades = []\n"
   ]
  },
  {
   "cell_type": "code",
   "execution_count": 56,
   "metadata": {},
   "outputs": [
    {
     "name": "stdin",
     "output_type": "stream",
     "text": [
      "What are your grades? 60\n",
      "What are your grades? 45\n",
      "What are your grades? 87\n"
     ]
    }
   ],
   "source": [
    "for i in range(3):  # loop 3 times\n",
    "    grades.append(input(\"What are your grades?\"))\n"
   ]
  },
  {
   "cell_type": "code",
   "execution_count": 57,
   "metadata": {},
   "outputs": [
    {
     "data": {
      "text/plain": [
       "list"
      ]
     },
     "execution_count": 57,
     "metadata": {},
     "output_type": "execute_result"
    }
   ],
   "source": [
    "type(grades)"
   ]
  },
  {
   "cell_type": "code",
   "execution_count": 71,
   "metadata": {},
   "outputs": [
    {
     "ename": "SyntaxError",
     "evalue": "invalid syntax (<ipython-input-71-fbd65208e7a1>, line 1)",
     "output_type": "error",
     "traceback": [
      "\u001b[1;36m  File \u001b[1;32m\"<ipython-input-71-fbd65208e7a1>\"\u001b[1;36m, line \u001b[1;32m1\u001b[0m\n\u001b[1;33m    f((int)grades)\u001b[0m\n\u001b[1;37m                ^\u001b[0m\n\u001b[1;31mSyntaxError\u001b[0m\u001b[1;31m:\u001b[0m invalid syntax\n"
     ]
    }
   ],
   "source": [
    "f((int)grades)"
   ]
  },
  {
   "cell_type": "raw",
   "metadata": {},
   "source": [
    "f(prices)"
   ]
  },
  {
   "cell_type": "code",
   "execution_count": 60,
   "metadata": {},
   "outputs": [
    {
     "name": "stdout",
     "output_type": "stream",
     "text": [
      "[2.1000000000000014, -0.8000000000000007, -0.5, 1.5000000000000036, 1.3999999999999986, 1.6999999999999957, 2.0, -1.5, 0.0, -0.6999999999999957]\n"
     ]
    }
   ],
   "source": [
    "print(runAvg)"
   ]
  },
  {
   "cell_type": "code",
   "execution_count": 65,
   "metadata": {},
   "outputs": [
    {
     "name": "stdout",
     "output_type": "stream",
     "text": [
      "All done.   Pring runAvg to see the averages.\n"
     ]
    }
   ],
   "source": [
    "f(prices)"
   ]
  },
  {
   "cell_type": "code",
   "execution_count": 76,
   "metadata": {},
   "outputs": [],
   "source": [
    "L = [float(n) for n in runAvg]"
   ]
  },
  {
   "cell_type": "code",
   "execution_count": 77,
   "metadata": {},
   "outputs": [
    {
     "name": "stdout",
     "output_type": "stream",
     "text": [
      "All done.   Print runAvg to see the averages.\n"
     ]
    }
   ],
   "source": [
    "f(L)"
   ]
  },
  {
   "cell_type": "code",
   "execution_count": 78,
   "metadata": {},
   "outputs": [
    {
     "name": "stdout",
     "output_type": "stream",
     "text": [
      "[2.1000000000000014, -0.8000000000000007, -0.5, 1.5000000000000036, 1.3999999999999986, 1.6999999999999957, 2.0, -1.5, 0.0, -0.6999999999999957, -2.900000000000002, 0.3000000000000007, 2.0000000000000036, -0.10000000000000497, 0.29999999999999716, 0.30000000000000426, -3.5, 1.5, -0.6999999999999957]\n"
     ]
    }
   ],
   "source": [
    "print(runAvg)"
   ]
  },
  {
   "cell_type": "code",
   "execution_count": 79,
   "metadata": {},
   "outputs": [
    {
     "name": "stdout",
     "output_type": "stream",
     "text": [
      "All done.   Print runAvg to see the averages.\n"
     ]
    }
   ],
   "source": [
    "f([float(n) for n in runAvg])"
   ]
  },
  {
   "cell_type": "code",
   "execution_count": 80,
   "metadata": {},
   "outputs": [],
   "source": [
    "runAvg = []   #create the list to store the running averages\n",
    "\n",
    "def wRunAvg(peaches):\n",
    "    for i in range(1,len(peaches)):   #the 1 is needed to skip the calculation on the first line.\n",
    "        runAvg.append(peaches[i]-peaches[i-1])\n",
    "    print(\"All done.   Print runAvg to see the averages.\")"
   ]
  },
  {
   "cell_type": "code",
   "execution_count": 81,
   "metadata": {},
   "outputs": [
    {
     "name": "stdout",
     "output_type": "stream",
     "text": [
      "All done.   Print runAvg to see the averages.\n"
     ]
    }
   ],
   "source": [
    "wRunAvg([float(n) for n in runAvg])"
   ]
  },
  {
   "cell_type": "code",
   "execution_count": 82,
   "metadata": {},
   "outputs": [
    {
     "name": "stdout",
     "output_type": "stream",
     "text": [
      "[]\n"
     ]
    }
   ],
   "source": [
    "print(runAvg)"
   ]
  },
  {
   "cell_type": "code",
   "execution_count": 83,
   "metadata": {},
   "outputs": [
    {
     "name": "stdout",
     "output_type": "stream",
     "text": [
      "[]\n"
     ]
    }
   ],
   "source": [
    "print(runAvg)"
   ]
  },
  {
   "cell_type": "code",
   "execution_count": 87,
   "metadata": {},
   "outputs": [],
   "source": [
    "def wRunAvg(peaches):\n",
    "    for i in range(1,len(peaches)):   #the 1 is needed to skip the calculation on the first line.\n",
    "        runAvg.append(peaches[i]-peaches[i-1])\n",
    "    print(\"All done.   Print runAvg to see the averages.\")"
   ]
  },
  {
   "cell_type": "code",
   "execution_count": 85,
   "metadata": {},
   "outputs": [],
   "source": [
    "runAvg = []   #create the list to store the running averages"
   ]
  },
  {
   "cell_type": "code",
   "execution_count": 86,
   "metadata": {},
   "outputs": [
    {
     "data": {
      "text/plain": [
       "list"
      ]
     },
     "execution_count": 86,
     "metadata": {},
     "output_type": "execute_result"
    }
   ],
   "source": [
    "type(runAvg)"
   ]
  },
  {
   "cell_type": "code",
   "execution_count": 88,
   "metadata": {},
   "outputs": [
    {
     "name": "stdout",
     "output_type": "stream",
     "text": [
      "All done.   Print runAvg to see the averages.\n"
     ]
    }
   ],
   "source": [
    "wRunAvg([float(n) for n in runAvg])"
   ]
  },
  {
   "cell_type": "code",
   "execution_count": 89,
   "metadata": {},
   "outputs": [
    {
     "name": "stdout",
     "output_type": "stream",
     "text": [
      "[]\n"
     ]
    }
   ],
   "source": [
    "print(runAvg)"
   ]
  },
  {
   "cell_type": "code",
   "execution_count": 91,
   "metadata": {},
   "outputs": [],
   "source": [
    "def f(peaches):\n",
    "    for i in range(1,len(peaches)):\n",
    "        runAvg.append(peaches[i]-peaches[i-1])\n",
    "    print(\"All done.   Prin runAvg to see the averages.\")"
   ]
  },
  {
   "cell_type": "code",
   "execution_count": 97,
   "metadata": {},
   "outputs": [
    {
     "name": "stdout",
     "output_type": "stream",
     "text": [
      "All done.   Prin runAvg to see the averages.\n"
     ]
    }
   ],
   "source": [
    "f([float(n) for n in grades])"
   ]
  },
  {
   "cell_type": "code",
   "execution_count": 93,
   "metadata": {},
   "outputs": [
    {
     "name": "stdout",
     "output_type": "stream",
     "text": [
      "[]\n"
     ]
    }
   ],
   "source": [
    "print(runAvg)"
   ]
  },
  {
   "cell_type": "code",
   "execution_count": 94,
   "metadata": {},
   "outputs": [],
   "source": [
    "runAvg = []"
   ]
  },
  {
   "cell_type": "code",
   "execution_count": 95,
   "metadata": {},
   "outputs": [],
   "source": [
    "def f(peaches):\n",
    "    for i in range(1,len(peaches)):\n",
    "        runAvg.append(peaches[i]-peaches[i-1])\n",
    "    print(\"All done.   Prin runAvg to see the averages.\")"
   ]
  },
  {
   "cell_type": "code",
   "execution_count": 98,
   "metadata": {},
   "outputs": [
    {
     "name": "stdout",
     "output_type": "stream",
     "text": [
      "[30.0, 28.0, -18.0, -15.0, 42.0]\n"
     ]
    }
   ],
   "source": [
    "print(runAvg)"
   ]
  },
  {
   "cell_type": "code",
   "execution_count": 99,
   "metadata": {},
   "outputs": [],
   "source": [
    "stuff = [2, 4, 8, 15, 11]\n",
    "\n",
    "index = stuff.index(max(stuff))"
   ]
  },
  {
   "cell_type": "code",
   "execution_count": 100,
   "metadata": {},
   "outputs": [
    {
     "name": "stdout",
     "output_type": "stream",
     "text": [
      "3\n"
     ]
    }
   ],
   "source": [
    "print(index)"
   ]
  },
  {
   "cell_type": "code",
   "execution_count": 101,
   "metadata": {},
   "outputs": [],
   "source": [
    "index2 = stuff.index(min(stuff))"
   ]
  },
  {
   "cell_type": "code",
   "execution_count": 102,
   "metadata": {},
   "outputs": [
    {
     "name": "stdout",
     "output_type": "stream",
     "text": [
      "0\n"
     ]
    }
   ],
   "source": [
    "print(index2)"
   ]
  },
  {
   "cell_type": "code",
   "execution_count": null,
   "metadata": {},
   "outputs": [],
   "source": []
  }
 ],
 "metadata": {
  "kernelspec": {
   "display_name": "Python 3",
   "language": "python",
   "name": "python3"
  },
  "language_info": {
   "codemirror_mode": {
    "name": "ipython",
    "version": 3
   },
   "file_extension": ".py",
   "mimetype": "text/x-python",
   "name": "python",
   "nbconvert_exporter": "python",
   "pygments_lexer": "ipython3",
   "version": "3.7.1"
  }
 },
 "nbformat": 4,
 "nbformat_minor": 2
}
